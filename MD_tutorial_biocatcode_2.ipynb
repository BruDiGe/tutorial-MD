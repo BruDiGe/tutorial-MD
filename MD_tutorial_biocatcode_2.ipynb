{
  "cells": [
    {
      "cell_type": "markdown",
      "id": "49e45ef8-8d92-4a21-8c20-445bad9c4c3a",
      "metadata": {
        "id": "49e45ef8-8d92-4a21-8c20-445bad9c4c3a"
      },
      "source": [
        "# Introduction to Molecular Dynamics Simulations with AMBER\n",
        "\n",
        "-**Author:** Bruno Di Geronimo  \n",
        "-**Contact:** bgeronimo3@gatech.edu  \n",
        "-**Github:** https://github.com/BruDiGe/biocatcodeexpander-2024.git  \n",
        "\n",
        "## Useful links:\n",
        "1 [AMBER](https://ambermd.org/index.php)\n",
        "\n",
        "\n",
        "2 [H++](http://newbiophysics.cs.vt.edu/H++/hppdetails.php)\n",
        "\n",
        "\n",
        "3 [pdb4amber](https://ambermd.org/tutorials/basic/tutorial9/index.php)\n",
        "\n",
        "\n",
        "4 [LEaP](https://ambermd.org/tutorials/pengfei/)\n",
        "\n",
        "5 [PyMOL](https://pymolwiki.org/index.php/Main_Page)\n",
        "\n",
        "6 [Advance AMBER tutorial](https://ambermd.org/tutorials/advanced/tutorial41/index.php#3.%20tICA%20Analysis%20and%20MSM%20Construction)\n"
      ]
    },
    {
      "cell_type": "markdown",
      "source": [
        "## Index of Actions:\n",
        "\n",
        "### 1. Instal Ambertools & parmed using CONDA\n",
        "\n",
        "First we will install all the software we need for this tutorial.\n",
        "\n",
        "This could take about 5 mins.\n",
        "\n",
        "\n",
        "### 2. Create your PDBs\n",
        "Using PyMol we are going to build our COSTB2 models. Using ChainA from PDB-id **6GGI** and substrate (geranyl geranyl phosphate or **GGS**) from PDB-id **5GUE**.\n",
        "\n",
        "**ACHTUNG!:** GGS is in *tio* state and without hydrogens. Use builder to modify the substrate.\n",
        "\n",
        "\n",
        "Use [H++](http://newbiophysics.cs.vt.edu/H++/hppdetails.php) webserver to get protonation state of your 6GGI_Chain-A. Only use aa.\n",
        "\n",
        "\n",
        "At the end we should have next structures:\n",
        "* 6GGI-A_H.pdb (protein)\n",
        "* GSSH-A.pdb (substrate)\n",
        "* WAT-A.pdb (water molecules, yes cristallographic waters are important)\n",
        "* MG-A.pdb (magnesium ion)\n",
        "\n",
        "*Apo system* (**6GGI-A**) without substrate.\n",
        "*Holo system* (**6GGI-A-GSS**) with substrate.\n",
        "\n",
        "\n",
        "### 3. tleap\n",
        "Using tleap we can build our corresponding topology and initial coordinates using the corresponding PDBs and force fields (ff19SB and TIP3P water molecules).\n",
        "\n",
        "\n",
        "### 4. Analysis with Parmed\n",
        "Use parmed to visualize and understand how it looks our topology file inside.\n",
        "\n",
        "\n",
        "### 5. Conventional MD\n",
        "In this course, we will not run cMD due to the lack of resources & time. Take a look to the scheme proposed and inputs at (Link-Github).\n",
        "\n",
        "### 6. Visualization of the Molecular Dynamic simulations\n",
        "Download from [link] files:\n",
        "\n",
        "1. **APO:** 6GGI-A_equi.pdb and 6GGI-A-md_500ns.dcd\n",
        "\n",
        "\n",
        "2. **HOLO:** 6GGI-A-GSS_equi.pdb and 6GGI-A-GSS-md_500ns.dcd\n",
        "\n",
        "Use PyMol to load the trajectories. For **APO** open first the PDB file *6GGI-A_equi.pdb* and the at console enter (load_traj 6GGI-A-md_500ns.dcd). For **HOLO**, in a new PyMol window open first the PDB file *6GGI-A-GSS_equi.pdb* and the at console enter (load_traj 6GGI-A-md_500ns.dcd).\n",
        "\n",
        "\n",
        "### 7. Trajectory analysis with CPPTRAJ:\n",
        "\n",
        "Using *cpptraj* software we will analyze both trajectories and plot the corresponding RMSD, RMSF and LIE values.\n",
        "\n",
        "\n",
        "### 8. Discussion and conclusions"
      ],
      "metadata": {
        "id": "NR9ObvTDmwZe"
      },
      "id": "NR9ObvTDmwZe"
    },
    {
      "cell_type": "markdown",
      "source": [
        "# 1. Instal Ambertools & parmed using CONDA"
      ],
      "metadata": {
        "id": "xO6O5p0PD97G"
      },
      "id": "xO6O5p0PD97G"
    },
    {
      "cell_type": "code",
      "source": [
        "!pip install -q condacolab"
      ],
      "metadata": {
        "id": "TIFnzzUvEi-B"
      },
      "id": "TIFnzzUvEi-B",
      "execution_count": null,
      "outputs": []
    },
    {
      "cell_type": "code",
      "source": [
        "import condacolab\n",
        "condacolab.install()"
      ],
      "metadata": {
        "id": "W3CvacmUEowG"
      },
      "id": "W3CvacmUEowG",
      "execution_count": null,
      "outputs": []
    },
    {
      "cell_type": "code",
      "source": [
        "!conda --version"
      ],
      "metadata": {
        "id": "5WvDo3QMErtK"
      },
      "id": "5WvDo3QMErtK",
      "execution_count": null,
      "outputs": []
    },
    {
      "cell_type": "code",
      "source": [
        "!conda create --name AmberTools23"
      ],
      "metadata": {
        "id": "q38U1kPEEvCu"
      },
      "id": "q38U1kPEEvCu",
      "execution_count": null,
      "outputs": []
    },
    {
      "cell_type": "code",
      "source": [
        "!source activate base"
      ],
      "metadata": {
        "id": "1ASKKUbuE1xv"
      },
      "id": "1ASKKUbuE1xv",
      "execution_count": null,
      "outputs": []
    },
    {
      "cell_type": "code",
      "source": [
        "!conda install -c conda-forge ambertools=23"
      ],
      "metadata": {
        "id": "R7niy_4KE4W2"
      },
      "id": "R7niy_4KE4W2",
      "execution_count": null,
      "outputs": []
    },
    {
      "cell_type": "code",
      "source": [
        "!source activate AmberTools23"
      ],
      "metadata": {
        "id": "IQNViSHgE6iL"
      },
      "id": "IQNViSHgE6iL",
      "execution_count": null,
      "outputs": []
    },
    {
      "cell_type": "code",
      "source": [
        "!which cpptraj"
      ],
      "metadata": {
        "id": "2GsXmCofE-MT"
      },
      "id": "2GsXmCofE-MT",
      "execution_count": null,
      "outputs": []
    },
    {
      "cell_type": "code",
      "source": [
        "!which tleap"
      ],
      "metadata": {
        "id": "IWxOo5ffE_CN"
      },
      "id": "IWxOo5ffE_CN",
      "execution_count": null,
      "outputs": []
    },
    {
      "cell_type": "code",
      "source": [
        "!pip install parmed"
      ],
      "metadata": {
        "id": "ecX2LklGFCN4"
      },
      "id": "ecX2LklGFCN4",
      "execution_count": null,
      "outputs": []
    },
    {
      "cell_type": "code",
      "source": [
        "!which parmed"
      ],
      "metadata": {
        "id": "ZY2Udz1HFGej"
      },
      "id": "ZY2Udz1HFGej",
      "execution_count": null,
      "outputs": []
    },
    {
      "cell_type": "markdown",
      "source": [
        "# 2. Create your PDBs"
      ],
      "metadata": {
        "id": "9SoS6iG7CosP"
      },
      "id": "9SoS6iG7CosP"
    },
    {
      "cell_type": "markdown",
      "source": [
        "Follow instructor order to obtain the corresponding PDBs:\n",
        "\n",
        "* **6GGI-A_H.pdb** (protein)\n",
        "* **GSSH-A.pdb** (substrate)\n",
        "* **WAT-A.pdb** (water molecules, yes cristallographic waters are important)\n",
        "* **MG-A.pdb** (magnesium ion)\n",
        "\n",
        "Files can be also downloaded here: [link](https://github.com/BruDiGe/tutorial-MD/tree/main/00_structures)"
      ],
      "metadata": {
        "id": "-bLzxMdUFOAm"
      },
      "id": "-bLzxMdUFOAm"
    },
    {
      "cell_type": "markdown",
      "source": [
        "# 3. tleap\n",
        "\n",
        "Tleap works by transforming our PDBs in the corresponding topology file (that has all the information related to atom types, residues, bonds, angles, dihedrals, etc) and the initial coordinates (just x,y,z coordinates).\n",
        "\n",
        "\n",
        "\n",
        "![AMBER Diagram](https://ambermd.org/tutorials/basic/tutorial9/include/amber_flow.png)\n"
      ],
      "metadata": {
        "id": "tzyA5msHCywD"
      },
      "id": "tzyA5msHCywD"
    },
    {
      "cell_type": "markdown",
      "source": [
        "<div class=\"alert alert-block alert-info\">\n",
        "<b>NOTE</b> Use blue boxes for Tips and notes.\n",
        "</div>"
      ],
      "metadata": {
        "id": "Fx3--o6CmZq9"
      },
      "id": "Fx3--o6CmZq9"
    },
    {
      "cell_type": "markdown",
      "source": [
        "# 4. Analysis with Parmed"
      ],
      "metadata": {
        "id": "VScClIFTDDbk"
      },
      "id": "VScClIFTDDbk"
    },
    {
      "cell_type": "markdown",
      "source": [
        "# 5. Conventional MD"
      ],
      "metadata": {
        "id": "zO4zD_daDPzC"
      },
      "id": "zO4zD_daDPzC"
    },
    {
      "cell_type": "markdown",
      "source": [
        "# 6. Visualization of the Molecular Dynamic simulations"
      ],
      "metadata": {
        "id": "6D0DLXfdDYU7"
      },
      "id": "6D0DLXfdDYU7"
    },
    {
      "cell_type": "markdown",
      "source": [
        "# 7. Trajectory analysis with CPPTRAJ:"
      ],
      "metadata": {
        "id": "yIKYdYApEEhR"
      },
      "id": "yIKYdYApEEhR"
    },
    {
      "cell_type": "markdown",
      "source": [
        "# 8. Discussion and conclusions"
      ],
      "metadata": {
        "id": "VwPbwk5VEZag"
      },
      "id": "VwPbwk5VEZag"
    },
    {
      "cell_type": "markdown",
      "source": [],
      "metadata": {
        "id": "Gm59vB2XDZ-Y"
      },
      "id": "Gm59vB2XDZ-Y"
    }
  ],
  "metadata": {
    "kernelspec": {
      "display_name": "Python 3 (ipykernel)",
      "language": "python",
      "name": "python3"
    },
    "language_info": {
      "codemirror_mode": {
        "name": "ipython",
        "version": 3
      },
      "file_extension": ".py",
      "mimetype": "text/x-python",
      "name": "python",
      "nbconvert_exporter": "python",
      "pygments_lexer": "ipython3",
      "version": "3.11.7"
    },
    "colab": {
      "provenance": [],
      "toc_visible": true
    }
  },
  "nbformat": 4,
  "nbformat_minor": 5
}