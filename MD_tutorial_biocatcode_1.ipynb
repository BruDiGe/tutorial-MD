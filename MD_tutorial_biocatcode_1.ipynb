{
  "cells": [
    {
      "cell_type": "markdown",
      "id": "49e45ef8-8d92-4a21-8c20-445bad9c4c3a",
      "metadata": {
        "id": "49e45ef8-8d92-4a21-8c20-445bad9c4c3a"
      },
      "source": [
        "# Introduction to Molecular Dynamics Simulations with AMBER\n",
        "\n",
        "-**Author:** Bruno Di Geronimo  \n",
        "-**Contact:** bgeronimo3@gatech.edu  \n",
        "-**Github:** https://github.com/BruDiGe/tutorial-MD.git  \n",
        "\n",
        "## Useful links:\n",
        "1 [AMBER](https://ambermd.org/index.php)\n",
        "\n",
        "\n",
        "2 [H++](http://newbiophysics.cs.vt.edu/H++/hppdetails.php)\n",
        "\n",
        "\n",
        "3 [pdb4amber](https://ambermd.org/tutorials/basic/tutorial9/index.php)\n",
        "\n",
        "\n",
        "4 [LEaP](https://ambermd.org/tutorials/pengfei/)\n",
        "\n",
        "5 [PyMOL](https://pymolwiki.org/index.php/Main_Page)\n",
        "\n",
        "6 [Advance AMBER tutorial](https://ambermd.org/tutorials/advanced/tutorial41/index.php#3.%20tICA%20Analysis%20and%20MSM%20Construction)\n"
      ]
    },
    {
      "cell_type": "markdown",
      "source": [
        "## Index of Actions:\n",
        "\n",
        "### 1. Instal Ambertools & parmed using CONDA\n",
        "\n",
        "First we will install all the software we need for this tutorial.\n",
        "\n",
        "This could take about 5 mins.\n",
        "\n",
        "\n",
        "### 2. Create your PDBs\n",
        "Using PyMol we are going to build our COSTB2 models. Using ChainA from PDB-id **6GGI** and substrate (geranyl geranyl phosphate or **GGS**) from PDB-id **5GUE**.\n",
        "\n",
        "**ACHTUNG!:** GGS is in *tio* state and without hydrogens. Use builder to modify the substrate.\n",
        "\n",
        "\n",
        "Use [H++](http://newbiophysics.cs.vt.edu/H++/hppdetails.php) webserver to get protonation state of your 6GGI_Chain-A. Only use aa.\n",
        "\n",
        "\n",
        "At the end we should have next structures:\n",
        "* 6GGI-A_H.pdb (protein)\n",
        "* GSSH-A.pdb (substrate)\n",
        "* WAT-A.pdb (water molecules, yes cristallographic waters are important)\n",
        "* MG-A.pdb (magnesium ion)\n",
        "\n",
        "*Apo system* (**6GGI-A**) without substrate.\n",
        "*Holo system* (**6GGI-A-GSS**) with substrate.\n",
        "\n",
        "\n",
        "### 3. Tleap\n",
        "Using tleap we can build our corresponding topology and initial coordinates using the corresponding PDBs and force fields (ff19SB and TIP3P water molecules).\n",
        "\n",
        "\n",
        "### 4. Analysis with Parmed\n",
        "Use parmed to visualize and understand how it looks our topology file inside.\n",
        "\n",
        "\n",
        "### 5. Conventional MD\n",
        "In this course, we will not run cMD due to the lack of resources & time. Take a look to the scheme proposed and inputs at this [github-link](https://github.com/BruDiGe/tutorial-MD/tree/main/04_cmd).\n",
        "\n",
        "### 6. Visualization of the Molecular Dynamic simulations\n",
        "Download from [link] files:\n",
        "\n",
        "1. **APO:** 6GGI-A_equi.pdb and 6GGI-A-md_500ns.dcd\n",
        "\n",
        "\n",
        "2. **HOLO:** 6GGI-A-GSS_equi.pdb and 6GGI-A-GSS-md_500ns.dcd\n",
        "\n",
        "Use PyMol to load the trajectories. For **APO** open first the PDB file *6GGI-A_equi.pdb* and the at console enter (load_traj 6GGI-A-md_500ns.dcd). For **HOLO**, in a new PyMol window open first the PDB file *6GGI-A-GSS_equi.pdb* and the at console enter (load_traj 6GGI-A-md_500ns.dcd).\n",
        "\n",
        "\n",
        "### 7. Trajectory analysis with CPPTRAJ\n",
        "\n",
        "Using *cpptraj* software we will analyze both trajectories and plot the corresponding RMSD, RMSF and LIE values.\n",
        "\n",
        "\n",
        "### 8. Discussion and conclusions\n",
        "\n",
        "If there is any at all 😋"
      ],
      "metadata": {
        "id": "NR9ObvTDmwZe"
      },
      "id": "NR9ObvTDmwZe"
    },
    {
      "cell_type": "markdown",
      "source": [
        "# 1. Instal Ambertools & parmed using CONDA"
      ],
      "metadata": {
        "id": "xO6O5p0PD97G"
      },
      "id": "xO6O5p0PD97G"
    },
    {
      "cell_type": "markdown",
      "source": [
        "The <span style=\"background-color: lightgrey;\">pip</span> command is the Python package installer. It is used to install, manage, and update Python packages from the Python Package Index (PyPI) and other repositories."
      ],
      "metadata": {
        "id": "LXbOrRaj-K8D"
      },
      "id": "LXbOrRaj-K8D"
    },
    {
      "cell_type": "code",
      "source": [
        "!pip install -q condacolab"
      ],
      "metadata": {
        "id": "TIFnzzUvEi-B"
      },
      "id": "TIFnzzUvEi-B",
      "execution_count": null,
      "outputs": []
    },
    {
      "cell_type": "code",
      "source": [
        "import condacolab\n",
        "condacolab.install()"
      ],
      "metadata": {
        "id": "W3CvacmUEowG",
        "colab": {
          "base_uri": "https://localhost:8080/"
        },
        "outputId": "7866ebbd-d75e-4446-ba8d-6bbf358d7fb3"
      },
      "id": "W3CvacmUEowG",
      "execution_count": null,
      "outputs": [
        {
          "output_type": "stream",
          "name": "stdout",
          "text": [
            "⏬ Downloading https://github.com/conda-forge/miniforge/releases/download/23.11.0-0/Mambaforge-23.11.0-0-Linux-x86_64.sh...\n",
            "📦 Installing...\n",
            "📌 Adjusting configuration...\n",
            "🩹 Patching environment...\n",
            "⏲ Done in 0:00:18\n",
            "🔁 Restarting kernel...\n"
          ]
        }
      ]
    },
    {
      "cell_type": "markdown",
      "source": [
        "The <span style=\"background-color: lightgrey;\">conda</span> command is a versatile tool for managing packages, dependencies, and environments in Python (and other languages). It is used in the Conda package management system, commonly associated with the Anaconda and Miniconda distributions."
      ],
      "metadata": {
        "id": "2zndBb5y-eJI"
      },
      "id": "2zndBb5y-eJI"
    },
    {
      "cell_type": "code",
      "source": [
        "!conda --version"
      ],
      "metadata": {
        "id": "5WvDo3QMErtK"
      },
      "id": "5WvDo3QMErtK",
      "execution_count": null,
      "outputs": []
    },
    {
      "cell_type": "code",
      "source": [
        "!conda create --name AmberTools23"
      ],
      "metadata": {
        "id": "q38U1kPEEvCu"
      },
      "id": "q38U1kPEEvCu",
      "execution_count": null,
      "outputs": []
    },
    {
      "cell_type": "code",
      "source": [
        "!source activate base"
      ],
      "metadata": {
        "id": "1ASKKUbuE1xv"
      },
      "id": "1ASKKUbuE1xv",
      "execution_count": null,
      "outputs": []
    },
    {
      "cell_type": "code",
      "source": [
        "!conda install -c conda-forge ambertools=23"
      ],
      "metadata": {
        "id": "R7niy_4KE4W2"
      },
      "id": "R7niy_4KE4W2",
      "execution_count": null,
      "outputs": []
    },
    {
      "cell_type": "code",
      "source": [
        "!source activate AmberTools23"
      ],
      "metadata": {
        "id": "IQNViSHgE6iL"
      },
      "id": "IQNViSHgE6iL",
      "execution_count": null,
      "outputs": []
    },
    {
      "cell_type": "markdown",
      "source": [
        "The <span style=\"background-color: lightgrey;\">which</span> command is used to locate the executable file associated with a given command. It shows the full path of the executable."
      ],
      "metadata": {
        "id": "UOgoOOhF-QLR"
      },
      "id": "UOgoOOhF-QLR"
    },
    {
      "cell_type": "code",
      "source": [
        "!which cpptraj"
      ],
      "metadata": {
        "id": "2GsXmCofE-MT"
      },
      "id": "2GsXmCofE-MT",
      "execution_count": null,
      "outputs": []
    },
    {
      "cell_type": "code",
      "source": [
        "!which tleap"
      ],
      "metadata": {
        "id": "IWxOo5ffE_CN"
      },
      "id": "IWxOo5ffE_CN",
      "execution_count": null,
      "outputs": []
    },
    {
      "cell_type": "code",
      "source": [
        "!pip install parmed"
      ],
      "metadata": {
        "id": "ecX2LklGFCN4",
        "colab": {
          "base_uri": "https://localhost:8080/"
        },
        "outputId": "37365d5a-8bfe-411d-a4b9-df2ce04974b4"
      },
      "id": "ecX2LklGFCN4",
      "execution_count": 86,
      "outputs": [
        {
          "output_type": "stream",
          "name": "stdout",
          "text": [
            "Collecting parmed\n",
            "  Downloading parmed-4.3.0.tar.gz (20.2 MB)\n",
            "\u001b[2K     \u001b[90m━━━━━━━━━━━━━━━━━━━━━━━━━━━━━━━━━━━━━━━━\u001b[0m \u001b[32m20.2/20.2 MB\u001b[0m \u001b[31m48.5 MB/s\u001b[0m eta \u001b[36m0:00:00\u001b[0m\n",
            "\u001b[?25h  Preparing metadata (setup.py) ... \u001b[?25l\u001b[?25hdone\n",
            "Building wheels for collected packages: parmed\n",
            "  Building wheel for parmed (setup.py) ... \u001b[?25l\u001b[?25hdone\n",
            "  Created wheel for parmed: filename=ParmEd-4.3.0-cp310-cp310-linux_x86_64.whl size=19470040 sha256=e769735ec20505c6cb6463d01c0edeecd59cbf96be1cdc9c706edec58d51c54c\n",
            "  Stored in directory: /root/.cache/pip/wheels/38/27/88/54cef4d495c95b7d4dde9c104b19b886bafac0643c43c78c4c\n",
            "Successfully built parmed\n",
            "Installing collected packages: parmed\n",
            "Successfully installed parmed-4.3.0\n"
          ]
        }
      ]
    },
    {
      "cell_type": "code",
      "source": [
        "!which parmed"
      ],
      "metadata": {
        "id": "ZY2Udz1HFGej",
        "colab": {
          "base_uri": "https://localhost:8080/"
        },
        "outputId": "a31784fe-e7cf-4109-e8cf-ddada9c35780"
      },
      "id": "ZY2Udz1HFGej",
      "execution_count": 87,
      "outputs": [
        {
          "output_type": "stream",
          "name": "stdout",
          "text": [
            "/usr/local/bin/parmed\n"
          ]
        }
      ]
    },
    {
      "cell_type": "markdown",
      "source": [
        "# 2. Create your PDBs"
      ],
      "metadata": {
        "id": "9SoS6iG7CosP"
      },
      "id": "9SoS6iG7CosP"
    },
    {
      "cell_type": "markdown",
      "source": [
        "Follow your instructor guidelines to obtain the corresponding PDBs:\n",
        "\n",
        "* **6GGI-A_H.pdb** (protein)\n",
        "* **GSSH-A.pdb** (substrate)\n",
        "* **WAT-A.pdb** (water molecules, yes cristallographic waters are important)\n",
        "* **MG-A.pdb** (magnesium ion)\n",
        "\n",
        "Files can also be downloaded here: [link](https://github.com/BruDiGe/tutorial-MD/tree/main/00_structures)"
      ],
      "metadata": {
        "id": "-bLzxMdUFOAm"
      },
      "id": "-bLzxMdUFOAm"
    },
    {
      "cell_type": "markdown",
      "source": [
        "# 3. tleap\n",
        "\n",
        "*Tleap* works by transforming our PDB files into the corresponding topology file (which contains all the information related to atom types, residues, bonds, angles, dihedrals, etc.) and the initial coordinates (x, y, z coordinates only).\n",
        "\n",
        "\n",
        "\n",
        "![AMBER Diagram](https://ambermd.org/tutorials/basic/tutorial9/include/amber_flow.png)\n"
      ],
      "metadata": {
        "id": "tzyA5msHCywD"
      },
      "id": "tzyA5msHCywD"
    },
    {
      "cell_type": "markdown",
      "source": [
        "<div class=\"alert alert-block alert-info\">\n",
        "<b>NOTE:</b> We are not going to create any topology neither coordinate files. This is because we do not have access to corresponding force field since we have only installed AMBER TOOLS! and not AMBER. Our topology files and coordinate files can be find <a href=\"https://github.com/BruDiGe/tutorial-MD/tree/main/02_parm\" target=\"_blank\">here</a>.\n",
        "</div>"
      ],
      "metadata": {
        "id": "Fx3--o6CmZq9"
      },
      "id": "Fx3--o6CmZq9"
    },
    {
      "cell_type": "markdown",
      "source": [
        "Here, we are just going to take a look to a tleap input and the information we need to provide and how works! Download the files with *curl* and visualize using *cat*."
      ],
      "metadata": {
        "id": "1-izmxDgZQYU"
      },
      "id": "1-izmxDgZQYU"
    },
    {
      "cell_type": "code",
      "source": [
        "!pip install colab-ssh"
      ],
      "metadata": {
        "colab": {
          "base_uri": "https://localhost:8080/"
        },
        "id": "VW9kQZRNx1Ix",
        "outputId": "fc1c828e-c2cb-4039-9ec6-e812f74739f9"
      },
      "id": "VW9kQZRNx1Ix",
      "execution_count": null,
      "outputs": [
        {
          "output_type": "stream",
          "name": "stdout",
          "text": [
            "Requirement already satisfied: colab-ssh in /usr/local/lib/python3.10/dist-packages (0.3.27)\n"
          ]
        }
      ]
    },
    {
      "cell_type": "code",
      "source": [
        "!which vim"
      ],
      "metadata": {
        "colab": {
          "base_uri": "https://localhost:8080/"
        },
        "id": "hI6m626cy4-I",
        "outputId": "bef7a95b-27f2-4e25-8b59-c42fa0f7487c"
      },
      "id": "hI6m626cy4-I",
      "execution_count": null,
      "outputs": [
        {
          "output_type": "stream",
          "name": "stdout",
          "text": [
            "/usr/bin/vim\n"
          ]
        }
      ]
    },
    {
      "cell_type": "markdown",
      "source": [
        "The <span style=\"background-color: lightgrey;\">ls</span> command in Linux/Unix is used to list the contents of a directory. It is one of the most commonly used commands to inspect files and directories in a filesystem. Command <span style=\"background-color: lightgrey;\">ls - lrth </span> list according to time and display size in human readable format."
      ],
      "metadata": {
        "id": "rFYpp6KD-z6T"
      },
      "id": "rFYpp6KD-z6T"
    },
    {
      "cell_type": "code",
      "source": [
        "!ls"
      ],
      "metadata": {
        "id": "dS5KUBQ31Zfx"
      },
      "id": "dS5KUBQ31Zfx",
      "execution_count": null,
      "outputs": []
    },
    {
      "cell_type": "markdown",
      "source": [
        "The <span style=\"background-color: lightgrey;\">curl</span> command is a powerful tool used to transfer data from or to a server using various protocols such as HTTP, HTTPS, FTP, and more."
      ],
      "metadata": {
        "id": "vHyC1rjE_O-T"
      },
      "id": "vHyC1rjE_O-T"
    },
    {
      "cell_type": "code",
      "source": [
        "!curl -o tleap-holo.in https://raw.githubusercontent.com/BruDiGe/tutorial-MD/main/01_tleap/tleap-holo.in\n"
      ],
      "metadata": {
        "id": "-EoFsDAdzZlk"
      },
      "id": "-EoFsDAdzZlk",
      "execution_count": null,
      "outputs": []
    },
    {
      "cell_type": "code",
      "source": [
        "!ls"
      ],
      "metadata": {
        "id": "uWe9M8Q11g25"
      },
      "id": "uWe9M8Q11g25",
      "execution_count": null,
      "outputs": []
    },
    {
      "cell_type": "markdown",
      "source": [
        "The <span style=\"background-color: lightgrey;\">cat</span> command is used in Linux and UNIX-like systems to concatenate and display file contents."
      ],
      "metadata": {
        "id": "L6sXnKYT-8V7"
      },
      "id": "L6sXnKYT-8V7"
    },
    {
      "cell_type": "code",
      "source": [
        "!cat tleap-holo.in"
      ],
      "metadata": {
        "id": "QcXVek1xy-w-"
      },
      "id": "QcXVek1xy-w-",
      "execution_count": null,
      "outputs": []
    },
    {
      "cell_type": "markdown",
      "source": [],
      "metadata": {
        "id": "e2DiYR8y_H4W"
      },
      "id": "e2DiYR8y_H4W"
    },
    {
      "cell_type": "code",
      "source": [
        "!curl -o tleap-apo.in https://raw.githubusercontent.com/BruDiGe/tutorial-MD/main/01_tleap/tleap-apo.in"
      ],
      "metadata": {
        "id": "85VdED6o0oSg"
      },
      "id": "85VdED6o0oSg",
      "execution_count": null,
      "outputs": []
    },
    {
      "cell_type": "code",
      "source": [
        "!cat tleap-apo.in"
      ],
      "metadata": {
        "id": "1fsMg6PU0Tem",
        "collapsed": true
      },
      "id": "1fsMg6PU0Tem",
      "execution_count": null,
      "outputs": []
    },
    {
      "cell_type": "markdown",
      "source": [
        "## But, how do we get GSS' parameters?\n",
        "\n",
        "Using antechamber, we have used simple GAFF (General Amber Force Field 2) to obtain the corresponding parameters. In order to obtaine the optimized molecule we have used (in this case) [**obabel**](https://open-babel.readthedocs.io/en/latest/Command-line_tools/babel.html) to minimize bond lenth.\n",
        "\n",
        "#### PARAMETERS FOR LIGAND A ####\n",
        "\n",
        "<div class=\"alert alert-block alert-info\">\n",
        "<b>NOTE:</b>\n",
        "\n",
        "antechamber -fi pdb -i GSSH-A-min.pdb -fo prepi -o GSSH-A.prepi -c bcc -nc -3 -rn GSA -at gaff2\n",
        "\n",
        "parmchk2 -i GSSH-A.prepi -o GSSH-A.frcmod -f prepi\n",
        "</div>\n",
        "\n",
        "\n",
        "\n"
      ],
      "metadata": {
        "id": "Bezd_sgy312e"
      },
      "id": "Bezd_sgy312e"
    },
    {
      "cell_type": "code",
      "source": [
        "!curl -o GSSH-A.prepi https://raw.githubusercontent.com/BruDiGe/tutorial-MD/main/01_tleap/GSSH-A/GSSH-A.prepi\n",
        "!ls -lrth\n",
        "!cat GSSH-A.prepi"
      ],
      "metadata": {
        "id": "IEQCa5-T4wi1",
        "collapsed": true
      },
      "id": "IEQCa5-T4wi1",
      "execution_count": null,
      "outputs": []
    },
    {
      "cell_type": "code",
      "source": [
        "!curl -o GSSH-A.frcmod https://raw.githubusercontent.com/BruDiGe/tutorial-MD/main/01_tleap/GSSH-A/GSSH-A.frcmod\n",
        "!ls -lrth\n",
        "!cat GSSH-A.frcmod"
      ],
      "metadata": {
        "collapsed": true,
        "id": "NQY2GIB05o34"
      },
      "id": "NQY2GIB05o34",
      "execution_count": null,
      "outputs": []
    },
    {
      "cell_type": "markdown",
      "source": [
        "# 4. Analysis with Parmed"
      ],
      "metadata": {
        "id": "VScClIFTDDbk"
      },
      "id": "VScClIFTDDbk"
    },
    {
      "cell_type": "markdown",
      "source": [
        "[ParmEd](https://parmed.github.io/ParmEd/html/index.html) is a general tool for aiding in investigations of biomolecular systems using popular molecular simulation packages, like Amber, CHARMM, and OpenMM written in Python.\n",
        "\n",
        "This software allow us to obtain al related information from topology files and modify it in case need it.\n",
        "\n"
      ],
      "metadata": {
        "id": "2u7WyS8v8lDi"
      },
      "id": "2u7WyS8v8lDi"
    },
    {
      "cell_type": "code",
      "source": [
        "!which parmed\n",
        "!curl -o 6GGI-A-GSS.prmtop https://raw.githubusercontent.com/BruDiGe/tutorial-MD/main/02_parm/6GGI-A-GSS.prmtop\n",
        "!ls -lrth\n",
        "# Commands to run with parmed\n",
        "# help\n",
        "# summary\n",
        "# printDetails :GSA\n",
        "# printBonds :275\n",
        "!parmed 6GGI-A-GSS.prmtop"
      ],
      "metadata": {
        "collapsed": true,
        "id": "uYzjUgMa9Wvx"
      },
      "id": "uYzjUgMa9Wvx",
      "execution_count": null,
      "outputs": []
    },
    {
      "cell_type": "markdown",
      "source": [
        "## ParmEd\n",
        "[ParmEd](https://parmed.github.io/ParmEd/html/index.html) is a general tool for aiding in investigations of biomolecular systems using popular molecular simulation packages, like Amber, CHARMM, and OpenMM written in Python.\n",
        "\n"
      ],
      "metadata": {
        "id": "rOFr_Re37D95"
      },
      "id": "rOFr_Re37D95"
    },
    {
      "cell_type": "markdown",
      "source": [
        "# 5. Conventional MD"
      ],
      "metadata": {
        "id": "zO4zD_daDPzC"
      },
      "id": "zO4zD_daDPzC"
    },
    {
      "cell_type": "markdown",
      "source": [
        "In this tutorial we are not going to run any MD simulations at all (for obvius reasons). Instead, results are uploaded here in this [link](https://github.com/BruDiGe/tutorial-MD/tree/main/04_cmd).\n",
        "\n",
        "<div style=\"background-color: lightgrey; padding: 10px; border-radius: 5px;\">\n",
        "In my humble opinion, this is one of the best tutorials about MD simulations with AMBER I ever saw. Here is the <a href=\"https://github.com/BruDiGe/tutorial-MD/blob/main/04_cmd/AMBERguide.pdf\" target=\"_blank\">link</a>.\n",
        "</div>\n",
        "\n",
        "\n",
        "![MD Steps](https://raw.githubusercontent.com/BruDiGe/tutorial-MD/main/04_cmd/md-steps.png)\n",
        "\n",
        "\n",
        "## Minimization\n",
        "Minimization removes any steric clashes or high-energy configurations in the system that result from initial structural preparation.\n",
        "\n",
        "* Files:\n",
        "  * min1.in\n",
        "  * min2.in\n",
        "  * min3.in\n",
        "\n",
        "## Heating\n",
        "Gradually increase the system's temperature (from 100 to 300K)to the desired target, ensuring that atoms adapt naturally to higher thermal energies.In this case is performed under an NVT ensemble (constant number of particles, volume, and temperature).\n",
        "\n",
        "* Files:\n",
        "  * h.in\n",
        "\n",
        "## Equilibration\n",
        "Stabilize the system's pressure, temperature, and density to ensure it is ready for reliable production runs! Conducted in multiple steps, often transitioning from an NVT ensemble to an NPT ensemble (constant number of particles, pressure, and temperature). Restraints (not constraints) are often relaxed progressively.\n",
        "\n",
        "* Files:\n",
        "  * eq1.in\n",
        "  * eq2.in\n",
        "  * eq3.in\n",
        "  * eq4.in\n",
        "  * eq5.in\n",
        "  * eq6.in\n",
        "\n",
        "## Production\n",
        "Perform the actual simulation to observe the system's dynamics over a biologically or chemically relevant timescale. Run the simulation for a long time (e.g., 500 ns or more) under the desired ensemble, typically NPT (and this is our case) with a time step of 2fs (dt = 0.002). In total 500 snapshots are saved, every 1 ns or 1000ps.\n",
        "\n",
        "* Files:\n",
        "  * md.in"
      ],
      "metadata": {
        "id": "6RV3IA24QZtR"
      },
      "id": "6RV3IA24QZtR"
    },
    {
      "cell_type": "markdown",
      "source": [
        "# 6. Visualization of the Molecular Dynamic simulations"
      ],
      "metadata": {
        "id": "6D0DLXfdDYU7"
      },
      "id": "6D0DLXfdDYU7"
    },
    {
      "cell_type": "markdown",
      "source": [
        "Here we are going to visualize the MD simulations trajectories using PyMOL. Download files from [here](https://github.com/BruDiGe/tutorial-MD/tree/main/04_cmd) in your working directory (in your laptop or local machine). Open a **PyMol** **window** in your current directory and use the command line to load apo and holo trajectories:\n",
        "\n",
        "<div class=\"alert alert-block alert-info\">\n",
        "<b>NOTE:</b>\n",
        "All the trajectories here are saved without water and counterion molecules for clarity.\n",
        "</div>\n",
        "\n",
        "* If you are located in your directory, use the command line and type:\n",
        "  * load 6GGI-A_equi.pdb, apo\n",
        "  * load_traj 6GGI-A-md_500ns.dcd, apo\n",
        "  * load 6GGI-A-GSS_equi.pdb, holo\n",
        "  * load_traj 6GGI-A-GSS-md_500ns.dcd, holo\n",
        "\n",
        "<div class=\"alert alert-block alert-info\">\n",
        "<b>NOTE:</b>\n",
        " In case you can not open **PyMol** in the directory (windows version), use options: File > Working Directory > Change ... and then repeated the above commands in your command line.\n",
        "</div>\n",
        "\n",
        "\n"
      ],
      "metadata": {
        "id": "UOfI3_9bakW7"
      },
      "id": "UOfI3_9bakW7"
    },
    {
      "cell_type": "markdown",
      "source": [
        "# 7. Trajectory analysis with CPPTRAJ software\n",
        "\n",
        "#### Download trajectories and topology files without waters\n",
        "#### Calculate and plot RMSD (apo vs holo)\n",
        "#### Calculate and plot RMSF (apo vs holo)\n",
        "#### Calcule Principal Component Analysis (PCA-apo vs PCA-holo)\n",
        "#### Calculate and plot GSA's Linear Interaction Energy"
      ],
      "metadata": {
        "id": "yIKYdYApEEhR"
      },
      "id": "yIKYdYApEEhR"
    },
    {
      "cell_type": "markdown",
      "source": [
        "# 8. Discussion and conclusions"
      ],
      "metadata": {
        "id": "VwPbwk5VEZag"
      },
      "id": "VwPbwk5VEZag"
    },
    {
      "cell_type": "markdown",
      "source": [],
      "metadata": {
        "id": "Gm59vB2XDZ-Y"
      },
      "id": "Gm59vB2XDZ-Y"
    }
  ],
  "metadata": {
    "kernelspec": {
      "display_name": "Python 3 (ipykernel)",
      "language": "python",
      "name": "python3"
    },
    "language_info": {
      "codemirror_mode": {
        "name": "ipython",
        "version": 3
      },
      "file_extension": ".py",
      "mimetype": "text/x-python",
      "name": "python",
      "nbconvert_exporter": "python",
      "pygments_lexer": "ipython3",
      "version": "3.11.7"
    },
    "colab": {
      "provenance": []
    }
  },
  "nbformat": 4,
  "nbformat_minor": 5
}