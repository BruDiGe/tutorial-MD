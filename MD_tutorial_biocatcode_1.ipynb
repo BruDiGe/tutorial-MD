{
  "cells": [
    {
      "cell_type": "markdown",
      "metadata": {
        "id": "view-in-github",
        "colab_type": "text"
      },
      "source": [
        "<a href=\"https://colab.research.google.com/github/BruDiGe/tutorial-MD/blob/main/MD_tutorial_biocatcode_1.ipynb\" target=\"_parent\"><img src=\"https://colab.research.google.com/assets/colab-badge.svg\" alt=\"Open In Colab\"/></a>"
      ]
    },
    {
      "cell_type": "markdown",
      "source": [
        "# Molecular dyamics simulations workshop\n",
        "\n",
        "First session\n",
        "\n",
        "Wednesday 4th December 2024 (14:20-15:50)"
      ],
      "metadata": {
        "id": "VRfzo3pq8KmB"
      },
      "id": "VRfzo3pq8KmB"
    },
    {
      "cell_type": "markdown",
      "id": "49e45ef8-8d92-4a21-8c20-445bad9c4c3a",
      "metadata": {
        "id": "49e45ef8-8d92-4a21-8c20-445bad9c4c3a"
      },
      "source": [
        "# Introduction to Molecular Dynamics Simulations with AMBER\n",
        "\n",
        "-**Author:** Bruno Di Geronimo  \n",
        "-**Contact:** bgeronimo3@gatech.edu  \n",
        "-**Github:** https://github.com/BruDiGe/tutorial-MD.git  \n",
        "\n",
        "## Useful links:\n",
        "1 [AMBER](https://ambermd.org/index.php)\n",
        "\n",
        "\n",
        "2 [H++](http://newbiophysics.cs.vt.edu/H++/hppdetails.php)\n",
        "\n",
        "\n",
        "3 [pdb4amber](https://ambermd.org/tutorials/basic/tutorial9/index.php)\n",
        "\n",
        "\n",
        "4 [LEaP](https://ambermd.org/tutorials/pengfei/)\n",
        "\n",
        "5 [PyMOL](https://pymolwiki.org/index.php/Main_Page)\n",
        "\n",
        "6 [Advance AMBER tutorial](https://ambermd.org/tutorials/advanced/tutorial41/index.php#3.%20tICA%20Analysis%20and%20MSM%20Construction)\n"
      ]
    },
    {
      "cell_type": "markdown",
      "source": [
        "## Index of Actions:\n",
        "\n",
        "### 1. Instal AmberTools & ParmEd using CONDA\n",
        "\n",
        "First, we will install all the necessary software for this tutorial.\n",
        "\n",
        "Estimated time: ~5 minutes.\n",
        "\n",
        "---\n",
        "\n",
        "### 2. Create Your PDB Files\n",
        "We will use PyMOL to build our COSTB2 models. This involves:\n",
        "\n",
        "Extracting Chain A from PDB ID 6GGI.\n",
        "Extracting the substrate (geranylgeranyl phosphate, abbreviated as GGS) from PDB ID 5GUE.\n",
        "\n",
        "<div style=\"border: 2px solid #FFCC00; padding: 10px; background-color: #FFF8DC; border-radius: 5px;\">\n",
        "<b>Important Note:</b>  \n",
        "The extracted <b>GGS</b> is in its <i>thio state</i> and lacks hydrogens.  \n",
        "Use the <b>Builder</b> tool in PyMOL (or another software) to modify the substrate and ensure it is complete.\n",
        "</div>\n",
        "\n",
        "\n",
        "### Protein Protonation State\n",
        "\n",
        "Use the [H++](http://newbiophysics.cs.vt.edu/H++/hppdetails.php) webserver to determine the protonation state of **6GGI_Chain-A**. Only include amino acids (aa) in the process.\n",
        "\n",
        "At the end, we should have the following structures:\n",
        "\n",
        "- **6GGI-A_H.pdb**: The protein.\n",
        "- **GSSH-A.pdb**: The substrate.\n",
        "- **WAT-A.pdb**: The water molecules (note: crystallographic waters are important).\n",
        "- **MG-A.pdb**: The magnesium ion.\n",
        "\n",
        "We will prepare two systems:\n",
        "- **Apo system**: (**6GGI-A**) without the substrate.\n",
        "- **Holo system**: (**6GGI-A-GSS**) with the substrate.\n",
        "\n",
        "---\n",
        "\n",
        "### 3. Tleap\n",
        "\n",
        "Using **tleap**, we can build the corresponding topology and initial coordinates using the provided PDBs and force fields (**ff19SB** for the protein and **TIP3P** for water molecules).\n",
        "\n",
        "---\n",
        "\n",
        "### 4. Analysis with ParmEd\n",
        "\n",
        "Use **ParmEd** to visualize and understand the topology file and its contents.\n",
        "\n",
        "---\n",
        "\n",
        "### 5. Conventional MD\n",
        "\n",
        "In this course, we will not run conventional molecular dynamics (cMD) simulations due to limited resources and time. However, you can review the proposed scheme and input files provided at this [GitHub link](https://github.com/BruDiGe/tutorial-MD/tree/main/04_cmd).\n",
        "\n",
        "---\n",
        "\n",
        "### 6. Visualization of Molecular Dynamics Simulations\n",
        "\n",
        "Download the following files from [this link](https://github.com/BruDiGe/tutorial-MD/tree/main/04_cmd):\n",
        "\n",
        "#### **1. APO System**\n",
        "- `6GGI-A_equi.pdb`\n",
        "- `6GGI-A-md_500ns.dcd`\n",
        "\n",
        "#### **2. HOLO System**\n",
        "- `6GGI-A-GSS_equi.pdb`\n",
        "- `6GGI-A-GSS-md_500ns.dcd`\n",
        "\n",
        "**Steps to visualize the trajectories in PyMOL:**\n",
        "\n",
        "- For **APO**:\n",
        "  1. Open the PDB file `6GGI-A_equi.pdb` in PyMOL.\n",
        "  2. In the PyMOL console, enter:\n",
        "     ```\n",
        "     load_traj 6GGI-A-md_500ns.dcd\n",
        "     ```\n",
        "\n",
        "- For **HOLO**:\n",
        "  1. Open a new PyMOL window and load the PDB file `6GGI-A-GSS_equi.pdb`.\n",
        "  2. In the PyMOL console, enter:\n",
        "     ```\n",
        "     load_traj 6GGI-A-GSS-md_500ns.dcd\n",
        "     ```\n",
        "\n",
        "---\n",
        "\n",
        "### 7. Trajectory Analysis with CPPTRAJ\n",
        "\n",
        "Using the **cpptraj** software, we will analyze both trajectories and calculate:\n",
        "- Root Mean Square Deviation (RMSD).\n",
        "- Root Mean Square Fluctuation (RMSF).\n",
        "- Linear Interaction Energy (LIE) values.\n",
        "\n",
        "---\n",
        "\n",
        "### 8. Discussion and Conclusions\n",
        "\n",
        "(If there are any at all! 😋)\n",
        "\n",
        "---"
      ],
      "metadata": {
        "id": "NR9ObvTDmwZe"
      },
      "id": "NR9ObvTDmwZe"
    },
    {
      "cell_type": "markdown",
      "source": [
        "# 1. Instal Ambertools & parmed using CONDA"
      ],
      "metadata": {
        "id": "xO6O5p0PD97G"
      },
      "id": "xO6O5p0PD97G"
    },
    {
      "cell_type": "markdown",
      "source": [
        "The `pip` command is the Python package installer. It is used to install, manage, and update Python packages from the Python Package Index (**PyPI**) and other repositories."
      ],
      "metadata": {
        "id": "LXbOrRaj-K8D"
      },
      "id": "LXbOrRaj-K8D"
    },
    {
      "cell_type": "code",
      "source": [
        "!pip install -q condacolab"
      ],
      "metadata": {
        "id": "TIFnzzUvEi-B"
      },
      "id": "TIFnzzUvEi-B",
      "execution_count": null,
      "outputs": []
    },
    {
      "cell_type": "code",
      "source": [
        "import condacolab\n",
        "condacolab.install()"
      ],
      "metadata": {
        "id": "W3CvacmUEowG"
      },
      "id": "W3CvacmUEowG",
      "execution_count": null,
      "outputs": []
    },
    {
      "cell_type": "markdown",
      "source": [
        "The `conda` command is a versatile tool for managing packages, dependencies, and environments in Python (and other languages). It is part of the Conda package management system, commonly associated with the **Anaconda** and **Miniconda** distributions."
      ],
      "metadata": {
        "id": "2zndBb5y-eJI"
      },
      "id": "2zndBb5y-eJI"
    },
    {
      "cell_type": "code",
      "source": [
        "!conda --version"
      ],
      "metadata": {
        "id": "5WvDo3QMErtK"
      },
      "id": "5WvDo3QMErtK",
      "execution_count": null,
      "outputs": []
    },
    {
      "cell_type": "code",
      "source": [
        "!conda create --name AmberTools23"
      ],
      "metadata": {
        "id": "q38U1kPEEvCu"
      },
      "id": "q38U1kPEEvCu",
      "execution_count": null,
      "outputs": []
    },
    {
      "cell_type": "code",
      "source": [
        "!source activate base"
      ],
      "metadata": {
        "id": "1ASKKUbuE1xv"
      },
      "id": "1ASKKUbuE1xv",
      "execution_count": null,
      "outputs": []
    },
    {
      "cell_type": "code",
      "source": [
        "!conda install -c conda-forge ambertools=23"
      ],
      "metadata": {
        "id": "R7niy_4KE4W2"
      },
      "id": "R7niy_4KE4W2",
      "execution_count": null,
      "outputs": []
    },
    {
      "cell_type": "code",
      "source": [
        "!source activate AmberTools23"
      ],
      "metadata": {
        "id": "IQNViSHgE6iL"
      },
      "id": "IQNViSHgE6iL",
      "execution_count": null,
      "outputs": []
    },
    {
      "cell_type": "markdown",
      "source": [
        "The `which` command is used to locate the executable file associated with a given command. It displays the full path of the executable."
      ],
      "metadata": {
        "id": "UOgoOOhF-QLR"
      },
      "id": "UOgoOOhF-QLR"
    },
    {
      "cell_type": "code",
      "source": [
        "!which cpptraj"
      ],
      "metadata": {
        "id": "2GsXmCofE-MT"
      },
      "id": "2GsXmCofE-MT",
      "execution_count": null,
      "outputs": []
    },
    {
      "cell_type": "code",
      "source": [
        "!which tleap"
      ],
      "metadata": {
        "id": "IWxOo5ffE_CN"
      },
      "id": "IWxOo5ffE_CN",
      "execution_count": null,
      "outputs": []
    },
    {
      "cell_type": "code",
      "source": [
        "!pip install parmed"
      ],
      "metadata": {
        "id": "ecX2LklGFCN4"
      },
      "id": "ecX2LklGFCN4",
      "execution_count": null,
      "outputs": []
    },
    {
      "cell_type": "code",
      "source": [
        "!which parmed"
      ],
      "metadata": {
        "id": "ZY2Udz1HFGej"
      },
      "id": "ZY2Udz1HFGej",
      "execution_count": null,
      "outputs": []
    },
    {
      "cell_type": "markdown",
      "source": [
        "# 2. Create your PDBs"
      ],
      "metadata": {
        "id": "9SoS6iG7CosP"
      },
      "id": "9SoS6iG7CosP"
    },
    {
      "cell_type": "markdown",
      "source": [
        "Follow your instructor's guidelines to obtain the corresponding PDB files:\n",
        "\n",
        "- **6GGI-A_H.pdb**: Protein\n",
        "- **GSSH-A.pdb**: Substrate\n",
        "- **WAT-A.pdb**: Water molecules (note: crystallographic waters are important)\n",
        "- **MG-A.pdb**: Magnesium ion\n",
        "\n",
        "Alternatively, the files can also be downloaded here: [link](https://github.com/BruDiGe/tutorial-MD/tree/main/00_structures)\n"
      ],
      "metadata": {
        "id": "-bLzxMdUFOAm"
      },
      "id": "-bLzxMdUFOAm"
    },
    {
      "cell_type": "markdown",
      "source": [
        "# 3. tleap\n",
        "\n",
        "*Tleap* works by transforming our PDB files into the corresponding topology file, which contains all the information related to:\n",
        "- Atom types\n",
        "- Residues\n",
        "- Bonds\n",
        "- Angles\n",
        "- Dihedrals\n",
        "\n",
        "Additionally, it generates the initial coordinates (x, y, z coordinates only) for the system.\n",
        "\n",
        "---\n",
        "\n",
        "![AMBER Diagram](https://ambermd.org/tutorials/basic/tutorial9/include/amber_flow.png)\n",
        "\n"
      ],
      "metadata": {
        "id": "tzyA5msHCywD"
      },
      "id": "tzyA5msHCywD"
    },
    {
      "cell_type": "markdown",
      "source": [
        "> **NOTE:**  \n",
        "> We are not going to create any topology or coordinate files. This is because we do not have access to the corresponding force field, as we have only installed **AMBER TOOLS** and not the full **AMBER** suite.  \n",
        ">  \n",
        "> Our topology and coordinate files can be found [here](https://github.com/BruDiGe/tutorial-MD/tree/main/02_parm).\n"
      ],
      "metadata": {
        "id": "Fx3--o6CmZq9"
      },
      "id": "Fx3--o6CmZq9"
    },
    {
      "cell_type": "markdown",
      "source": [
        "Here, we are just going to take a look at a *tleap* input, the information we need to provide, and how it works!  \n",
        "\n",
        "The `curl` command is a powerful tool used to transfer data from or to a server using various protocols, such as HTTP, HTTPS, FTP, and more.\n",
        "\n",
        "\n",
        "Download the files using `curl` and visualize them with `cat`.\n"
      ],
      "metadata": {
        "id": "1-izmxDgZQYU"
      },
      "id": "1-izmxDgZQYU"
    },
    {
      "cell_type": "code",
      "source": [
        "!pip install colab-ssh"
      ],
      "metadata": {
        "id": "VW9kQZRNx1Ix"
      },
      "id": "VW9kQZRNx1Ix",
      "execution_count": null,
      "outputs": []
    },
    {
      "cell_type": "code",
      "source": [
        "!which vim"
      ],
      "metadata": {
        "id": "hI6m626cy4-I"
      },
      "id": "hI6m626cy4-I",
      "execution_count": null,
      "outputs": []
    },
    {
      "cell_type": "markdown",
      "source": [
        "The `ls` command in Linux/Unix is used to list the contents of a directory. It is one of the most commonly used commands to inspect files and directories in a filesystem.\n",
        "\n",
        "The command `ls -lrth` lists files and directories:\n",
        "- Sorted by **time** (most recent last).\n",
        "- Displaying **size** in a human-readable format."
      ],
      "metadata": {
        "id": "rFYpp6KD-z6T"
      },
      "id": "rFYpp6KD-z6T"
    },
    {
      "cell_type": "code",
      "source": [
        "!ls"
      ],
      "metadata": {
        "id": "dS5KUBQ31Zfx"
      },
      "id": "dS5KUBQ31Zfx",
      "execution_count": null,
      "outputs": []
    },
    {
      "cell_type": "code",
      "source": [
        "!curl -o tleap-holo.in https://raw.githubusercontent.com/BruDiGe/tutorial-MD/main/01_tleap/tleap-holo.in\n"
      ],
      "metadata": {
        "id": "-EoFsDAdzZlk"
      },
      "id": "-EoFsDAdzZlk",
      "execution_count": null,
      "outputs": []
    },
    {
      "cell_type": "code",
      "source": [
        "!ls"
      ],
      "metadata": {
        "id": "uWe9M8Q11g25"
      },
      "id": "uWe9M8Q11g25",
      "execution_count": null,
      "outputs": []
    },
    {
      "cell_type": "code",
      "source": [
        "!cat tleap-holo.in"
      ],
      "metadata": {
        "id": "QcXVek1xy-w-"
      },
      "id": "QcXVek1xy-w-",
      "execution_count": null,
      "outputs": []
    },
    {
      "cell_type": "code",
      "source": [
        "!curl -o tleap-apo.in https://raw.githubusercontent.com/BruDiGe/tutorial-MD/main/01_tleap/tleap-apo.in"
      ],
      "metadata": {
        "id": "85VdED6o0oSg"
      },
      "id": "85VdED6o0oSg",
      "execution_count": null,
      "outputs": []
    },
    {
      "cell_type": "code",
      "source": [
        "!cat tleap-apo.in"
      ],
      "metadata": {
        "id": "1fsMg6PU0Tem",
        "collapsed": true
      },
      "id": "1fsMg6PU0Tem",
      "execution_count": null,
      "outputs": []
    },
    {
      "cell_type": "markdown",
      "source": [
        "## But, how do we get GSS' parameters?\n",
        "\n",
        "Using **antechamber**, we have utilized the **GAFF2** (General Amber Force Field 2) to obtain the corresponding parameters. To optimize the molecule, we used [**obabel**](https://open-babel.readthedocs.io/en/latest/Command-line_tools/babel.html) to minimize bond lengths.\n",
        "\n",
        "---\n",
        "\n",
        "#### PARAMETERS FOR LIGAND A ####\n",
        "\n",
        "> **NOTE:**  \n",
        "> Use the following commands to generate the ligand parameters:  \n",
        ">\n",
        "> ```bash\n",
        "> antechamber -fi pdb -i GSSH-A-min.pdb -fo prepi -o GSSH-A.prepi -c bcc -nc -3 -rn GSA -at gaff2\n",
        ">\n",
        "> parmchk2 -i GSSH-A.prepi -o GSSH-A.frcmod -f prepi\n",
        "> ```"
      ],
      "metadata": {
        "id": "Bezd_sgy312e"
      },
      "id": "Bezd_sgy312e"
    },
    {
      "cell_type": "code",
      "source": [
        "!curl -o GSSH-A.prepi https://raw.githubusercontent.com/BruDiGe/tutorial-MD/main/01_tleap/GSSH-A/GSSH-A.prepi\n",
        "!ls -lrth\n",
        "!cat GSSH-A.prepi"
      ],
      "metadata": {
        "id": "IEQCa5-T4wi1",
        "collapsed": true
      },
      "id": "IEQCa5-T4wi1",
      "execution_count": null,
      "outputs": []
    },
    {
      "cell_type": "code",
      "source": [
        "!curl -o GSSH-A.frcmod https://raw.githubusercontent.com/BruDiGe/tutorial-MD/main/01_tleap/GSSH-A/GSSH-A.frcmod\n",
        "!ls -lrth\n",
        "!cat GSSH-A.frcmod"
      ],
      "metadata": {
        "collapsed": true,
        "id": "NQY2GIB05o34"
      },
      "id": "NQY2GIB05o34",
      "execution_count": null,
      "outputs": []
    },
    {
      "cell_type": "markdown",
      "source": [
        "# 4. Analysis with Parmed"
      ],
      "metadata": {
        "id": "VScClIFTDDbk"
      },
      "id": "VScClIFTDDbk"
    },
    {
      "cell_type": "markdown",
      "source": [
        "[ParmEd](https://parmed.github.io/ParmEd/html/index.html) is a general tool for aiding investigations of biomolecular systems using popular molecular simulation packages, such as **Amber**, **CHARMM**, and **OpenMM**, and is written in Python.\n",
        "\n",
        "This software allows us to extract all related information from topology files and modify them if needed.\n",
        "\n",
        "\n"
      ],
      "metadata": {
        "id": "2u7WyS8v8lDi"
      },
      "id": "2u7WyS8v8lDi"
    },
    {
      "cell_type": "code",
      "source": [
        "!which parmed\n",
        "!curl -o 6GGI-A-GSS.prmtop https://raw.githubusercontent.com/BruDiGe/tutorial-MD/main/02_parm/6GGI-A-GSS.prmtop\n",
        "!ls -lrth\n",
        "# Commands to run with parmed\n",
        "# help\n",
        "# summary\n",
        "# printDetails :GSA\n",
        "# printBonds :275\n",
        "!parmed 6GGI-A-GSS.prmtop"
      ],
      "metadata": {
        "collapsed": true,
        "id": "uYzjUgMa9Wvx"
      },
      "id": "uYzjUgMa9Wvx",
      "execution_count": null,
      "outputs": []
    },
    {
      "cell_type": "markdown",
      "source": [
        "# 5. Conventional MD"
      ],
      "metadata": {
        "id": "zO4zD_daDPzC"
      },
      "id": "zO4zD_daDPzC"
    },
    {
      "cell_type": "markdown",
      "source": [
        "In this tutorial, we are not going to run any MD simulations at all (for obvious reasons). Instead, the results are uploaded [here](https://github.com/BruDiGe/tutorial-MD/tree/main/04_cmd).\n",
        "\n",
        "---\n",
        "\n",
        "> **NOTE:**  \n",
        "> In my humble opinion, this is one of the best tutorials about MD simulations with **AMBER** I have ever seen.  \n",
        "> You can find the guide [here](https://github.com/BruDiGe/tutorial-MD/blob/main/04_cmd/AMBERguide.pdf).\n",
        "\n",
        "---\n",
        "\n",
        "![MD Steps](https://raw.githubusercontent.com/BruDiGe/tutorial-MD/main/04_cmd/md-steps.png)\n",
        "\n",
        "\n",
        "---\n",
        "\n",
        "\n",
        "## Minimization\n",
        "Minimization removes any steric clashes or high-energy configurations in the system that result from initial structural preparation.\n",
        "\n",
        "* Files:\n",
        "  * min1.in\n",
        "  * min2.in\n",
        "  * min3.in\n",
        "\n",
        "## Heating\n",
        "Gradually increase the system's temperature (from 100 to 300K)to the desired target, ensuring that atoms adapt naturally to higher thermal energies.In this case is performed under an NVT ensemble (constant number of particles, volume, and temperature).\n",
        "\n",
        "* Files:\n",
        "  * h.in\n",
        "\n",
        "## Equilibration\n",
        "Stabilize the system's pressure, temperature, and density to ensure it is ready for reliable production runs! Conducted in multiple steps, often transitioning from an NVT ensemble to an NPT ensemble (constant number of particles, pressure, and temperature). Restraints (not constraints) are often relaxed progressively.\n",
        "\n",
        "* Files:\n",
        "  * eq1.in\n",
        "  * eq2.in\n",
        "  * eq3.in\n",
        "  * eq4.in\n",
        "  * eq5.in\n",
        "  * eq6.in\n",
        "\n",
        "## Production\n",
        "Perform the actual simulation to observe the system's dynamics over a biologically or chemically relevant timescale. Run the simulation for a long time (e.g., 500 ns or more) under the desired ensemble, typically NPT (and this is our case) with a time step of 2fs (dt = 0.002). In total 500 snapshots are saved, every 1 ns or 1000ps.\n",
        "\n",
        "* Files:\n",
        "  * md.in"
      ],
      "metadata": {
        "id": "6RV3IA24QZtR"
      },
      "id": "6RV3IA24QZtR"
    },
    {
      "cell_type": "markdown",
      "source": [
        "# 6. Visualization of the Molecular Dynamic simulations"
      ],
      "metadata": {
        "id": "6D0DLXfdDYU7"
      },
      "id": "6D0DLXfdDYU7"
    },
    {
      "cell_type": "markdown",
      "source": [
        "### Visualizing MD Simulation Trajectories Using PyMOL\n",
        "\n",
        "Here, we are going to visualize the MD simulation trajectories using **PyMOL**. Download the files from [here](https://github.com/BruDiGe/tutorial-MD/tree/main/04_cmd) to your working directory (on your laptop or local machine).  \n",
        "\n",
        "Open a **PyMOL** window in your current directory and use the command line to load the **apo** and **holo** trajectories.\n",
        "\n",
        "---\n",
        "\n",
        "> **NOTE:**  \n",
        "> All the trajectories provided here are saved without water and counterion molecules for clarity.  \n",
        "> Open a **PyMOL** window and set the working directory:  \n",
        "> **File > Working Directory > Change...**  \n",
        "> Select the directory where you saved the corresponding files.\n",
        "\n",
        "---\n",
        "\n",
        "#### **Commands to Load Trajectories**\n",
        "1. Load the **APO** system:\n",
        "   ```bash\n",
        "   load 6GGI-A_equi.pdb, apo\n",
        "   load_traj 6GGI-A-md_500ns.dcd, apo\n",
        "   load 6GGI-A-GSS_equi.pdb, holo\n",
        "   load_traj 6GGI-A-GSS-md_500ns.dcd, holo\n",
        "   ```\n",
        "\n",
        "\n",
        "\n",
        "\n",
        "\n"
      ],
      "metadata": {
        "id": "UOfI3_9bakW7"
      },
      "id": "UOfI3_9bakW7"
    },
    {
      "cell_type": "markdown",
      "source": [
        "# 7. Trajectory analysis with CPPTRAJ software\n",
        "#### Download Trajectories and Topology Files Without Waters\n",
        "\n",
        "First, download the topology files and trajectories (without waters and counterions) from GitHub here using `curl`:\n"
      ],
      "metadata": {
        "id": "yIKYdYApEEhR"
      },
      "id": "yIKYdYApEEhR"
    },
    {
      "cell_type": "code",
      "source": [
        "#APO\n",
        "!curl -o 6GGI-A-md_500ns.dcd https://raw.githubusercontent.com/BruDiGe/tutorial-MD/main/04_cmd/6GGI-A-md_500ns.dcd\n",
        "!curl -o 6GGI-A_clear.prmtop https://raw.githubusercontent.com/BruDiGe/tutorial-MD/main/04_cmd/6GGI-A_clear.prmtop\n",
        "#HOLO\n",
        "!curl -o 6GGI-A-GSS_clear.prmtop https://raw.githubusercontent.com/BruDiGe/tutorial-MD/main/04_cmd/6GGI-A-GSS_clear.prmtop\n",
        "!curl -o 6GGI-A-GSS-md_500ns.dcd https://raw.githubusercontent.com/BruDiGe/tutorial-MD/main/04_cmd/6GGI-A-GSS-md_500ns.dcd\n",
        "\n",
        "# list the files\n",
        "!ls -lrth\n",
        "\n"
      ],
      "metadata": {
        "id": "3Ps6fDR5FK85"
      },
      "id": "3Ps6fDR5FK85",
      "execution_count": null,
      "outputs": []
    },
    {
      "cell_type": "markdown",
      "source": [
        "### Calculate RMSD, RMSF and LIE component (apo vs holo)\n",
        "\n",
        "#### RMSD\n",
        "**RMSD** stands for Root Mean Square Deviation, a widely used metric in structural biology, chemistry, and molecular dynamics to quantify the difference between two sets of atomic positions. It provides a measure of how much a structure deviates from a reference structure over time or between two structures.\n",
        "\n",
        "Mathematical Definition:\n",
        "\n",
        "<img src=\"https://wikimedia.org/api/rest_v1/media/math/render/svg/6fd2eda50eaf8df1982edf3751a6aa6cc102fff1\" alt=\"RMSD Figure\" width=\"500\">\n",
        "\n",
        "---\n",
        "\n",
        "#### RMSF\n",
        "\n",
        "**RMSF** stands for Root Mean Square Fluctuation, a metric used in molecular dynamics (MD) simulations to quantify the flexibility or mobility of individual atoms (or residues) in a molecule over time. Unlike RMSD, which measures the overall deviation of a structure, RMSF focuses on the variability of specific parts (e.g., residues) of the system during the simulation.  \n",
        "\n",
        "---\n",
        "\n",
        "\n",
        "#### Binding Free Energy Formula (LIE)\n",
        "\n",
        "The Linear Interaction Energy (**LIE**) method in cpptraj, part of the AmberTools suite, estimates the free energy of binding for a ligand to its receptor. This method is a computationally efficient approach for binding affinity prediction, using data from molecular dynamics (MD) simulations.  \n",
        "\n",
        "\n",
        "The **Linear Interaction Energy (LIE)** method estimates the binding free energy (\\(\\Delta G_{bind}\\)) using the formula:\n",
        "\n",
        "$$\\Delta G_{bind} = \\alpha \\langle V_{vdW}^{bound} \\rangle + \\beta \\langle V_{Coul}^{bound} \\rangle - \\gamma$$\n",
        "\n",
        "Where:\n",
        "- $\\langle V_{vdW}^{bound} \\rangle$: Average van der Waals interaction energy.\n",
        "- $\\langle V_{Coul}^{bound} \\rangle$: Average Coulombic interaction energy.\n",
        "- $\\alpha$, $\\beta$, $\\gamma$: Empirical coefficients. We use standard ones here.\n",
        "\n",
        "---\n"
      ],
      "metadata": {
        "id": "BzYKLjdgF-19"
      },
      "id": "BzYKLjdgF-19"
    },
    {
      "cell_type": "code",
      "source": [
        "# check if cpptraj is installed (it should be done at first point)\n",
        "!which cpptraj"
      ],
      "metadata": {
        "id": "GDhQOd5-H0lm"
      },
      "id": "GDhQOd5-H0lm",
      "execution_count": null,
      "outputs": []
    },
    {
      "cell_type": "code",
      "source": [
        "#run cpptraj & next commands !NOTE:  Copy & paste the commands one by one and use enter to run each line\n",
        "\"\"\"\n",
        "parm 6GGI-A_clear.prmtop\n",
        "trajin 6GGI-A-md_500ns.dcd\n",
        "rmsd apo-backbone :1-294@CA,C,N,O out 6GGI-A_backbone.rmsd\n",
        "atomicfluct :1-294@CA,C,N,O out 6GGI-A_backbone.agr byres\n",
        "go\n",
        "quit\n",
        "\"\"\"\n",
        "!cpptraj"
      ],
      "metadata": {
        "id": "IlLJ6IvDJCdI"
      },
      "id": "IlLJ6IvDJCdI",
      "execution_count": null,
      "outputs": []
    },
    {
      "cell_type": "code",
      "source": [
        "#Checked that we got cpptraj results!\n",
        "!ls -lrth\n",
        "!cat 6GGI-A_backbone.rmsd"
      ],
      "metadata": {
        "id": "vfaO9-gSMxHV"
      },
      "id": "vfaO9-gSMxHV",
      "execution_count": null,
      "outputs": []
    },
    {
      "cell_type": "code",
      "source": [
        "# Same for the Holo syste, we run cpptraj & next commands:\n",
        "\"\"\"\n",
        "parm 6GGI-A-GSS_clear.prmtop\n",
        "trajin 6GGI-A-GSS-md_500ns.dcd\n",
        "rmsd apo-backbone :1-294@CA,C,N,O out 6GGI-A-GSS_backbone.rmsd\n",
        "atomicfluct :1-294@CA,C,N,O out 6GGI-A-GSS_backbone.agr byres\n",
        "rmsd :1-294 first perrescenter perres range 294 perresout GSA.rmsd perresmask :294&!(@H=)\n",
        "lie GSA :1-294 :295 out lie-GSA.dat\n",
        "go\n",
        "quit\n",
        "\"\"\"\n",
        "!cpptraj"
      ],
      "metadata": {
        "id": "47Iyy5jKNEEd"
      },
      "id": "47Iyy5jKNEEd",
      "execution_count": null,
      "outputs": []
    },
    {
      "cell_type": "code",
      "source": [
        "!ls -lrth\n",
        "!cat GSA.rmsd\n",
        "!cat lie-GSA.dat"
      ],
      "metadata": {
        "id": "VDbSC5EaOvFS"
      },
      "id": "VDbSC5EaOvFS",
      "execution_count": null,
      "outputs": []
    },
    {
      "cell_type": "markdown",
      "source": [
        "#### Plot Calculated RMSD, RMSF, and LIE Components (APO vs HOLO)\n",
        "\n",
        "Use **matplotlib** scripts to plot the corresponding results for:\n",
        "- **RMSD**\n",
        "- **RMSF**\n",
        "- **LIE Components**\n",
        "\n",
        "These plots will compare the **APO** and **HOLO** systems."
      ],
      "metadata": {
        "id": "B_RcKUAlUaGS"
      },
      "id": "B_RcKUAlUaGS"
    },
    {
      "cell_type": "markdown",
      "source": [
        "### PLOT RMSD"
      ],
      "metadata": {
        "id": "1JWgt33ZcO-s"
      },
      "id": "1JWgt33ZcO-s"
    },
    {
      "cell_type": "code",
      "source": [
        "import numpy as np\n",
        "import matplotlib.pyplot as plt\n",
        "\n",
        "# Load the RMSD data from the uploaded files\n",
        "file_apo = '6GGI-A_backbone.rmsd'\n",
        "file_holo = '6GGI-A-GSS_backbone.rmsd'\n",
        "\n",
        "# Load the data\n",
        "data_apo = np.loadtxt(file_apo, skiprows=1)  # Adjust skiprows as needed\n",
        "data_holo = np.loadtxt(file_holo, skiprows=1)\n",
        "\n",
        "# Extract time and RMSD values\n",
        "time_apo = data_apo[:, 0]  # Assuming time is in the first column\n",
        "rmsd_apo = data_apo[:, 1]  # Assuming RMSD is in the second column\n",
        "\n",
        "time_holo = data_holo[:, 0]\n",
        "rmsd_holo = data_holo[:, 1]\n",
        "\n",
        "# Font size customization\n",
        "font_size_ticks = 18\n",
        "font_size_labels = 18\n",
        "\n",
        "# Create the figure and subplots\n",
        "fig, axs = plt.subplots(1, 2, figsize=(14, 7))\n",
        "\n",
        "# Plot Apo (6GGI-A) on the left\n",
        "axs[0].plot(time_apo, rmsd_apo, color='blue', linewidth=4)\n",
        "axs[0].set_title('Apo (6GGI-A)', fontsize=font_size_labels)\n",
        "axs[0].set_xlabel('Time (ns)', fontsize=font_size_labels)\n",
        "axs[0].set_ylabel('RMSD (Å)', fontsize=font_size_labels)\n",
        "axs[0].tick_params(axis='both', which='major', labelsize=font_size_ticks)\n",
        "axs[0].set_ylim(0, 3)\n",
        "\n",
        "\n",
        "# Plot Holo (6GGI-A-GSS) on the right\n",
        "axs[1].plot(time_holo, rmsd_holo, color='red', linewidth=4)\n",
        "axs[1].set_title('Holo (6GGI-A-GSS)', fontsize=font_size_labels)\n",
        "axs[1].set_xlabel('Time (ns)', fontsize=font_size_labels)\n",
        "axs[1].set_ylabel('RMSD (Å)', fontsize=font_size_labels)\n",
        "axs[1].tick_params(axis='both', which='major', labelsize=font_size_ticks)\n",
        "axs[1].set_ylim(0, 3)\n",
        "\n",
        "\n",
        "\n",
        "# Adjust layout for better spacing\n",
        "plt.tight_layout()\n",
        "\n",
        "# Show the plots\n",
        "plt.show()\n",
        "\n",
        "\n"
      ],
      "metadata": {
        "collapsed": true,
        "id": "GLq4-LddZz5C"
      },
      "id": "GLq4-LddZz5C",
      "execution_count": null,
      "outputs": []
    },
    {
      "cell_type": "markdown",
      "source": [
        "### PLOT RMSF"
      ],
      "metadata": {
        "id": "LF1GnvhecL01"
      },
      "id": "LF1GnvhecL01"
    },
    {
      "cell_type": "code",
      "source": [
        "import numpy as np\n",
        "import matplotlib.pyplot as plt\n",
        "\n",
        "# File paths for RMSF data\n",
        "file_apo_rmsf = '6GGI-A_backbone.agr'\n",
        "file_holo_rmsf = '6GGI-A-GSS_backbone.agr'\n",
        "\n",
        "# Load the RMSF data from the files, assuming the first column is residue indices and the second column is RMSF values\n",
        "data_apo = np.loadtxt(file_apo_rmsf, skiprows=8)  # Adjust skiprows if there's a header\n",
        "data_holo = np.loadtxt(file_holo_rmsf, skiprows=8)\n",
        "\n",
        "# Extract residue indices and RMSF values\n",
        "residues_apo = data_apo[:, 0]\n",
        "rmsf_apo = data_apo[:, 1]\n",
        "\n",
        "residues_holo = data_holo[:, 0]\n",
        "rmsf_holo = data_holo[:, 1]\n",
        "\n",
        "# Calculate the difference (ΔRMSF)\n",
        "delta_rmsf = rmsf_holo - rmsf_apo\n",
        "\n",
        "# Font size customization\n",
        "font_size_ticks = 18\n",
        "font_size_labels = 18\n",
        "\n",
        "# Create the figure and subplots\n",
        "fig, axs = plt.subplots(1, 3, figsize=(18, 7))\n",
        "\n",
        "# Plot Apo RMSF on the left\n",
        "axs[0].plot(residues_apo, rmsf_apo, color='blue', linewidth=4)\n",
        "axs[0].set_title('Apo (6GGI-A)', fontsize=font_size_labels)\n",
        "axs[0].set_xlabel('Residue Index', fontsize=font_size_labels)\n",
        "axs[0].set_ylabel('RMSF (Å)', fontsize=font_size_labels)\n",
        "axs[0].tick_params(axis='both', which='major', labelsize=font_size_ticks)\n",
        "axs[0].set_ylim(0, 5)\n",
        "\n",
        "# Plot Holo RMSF in the center\n",
        "axs[1].plot(residues_holo, rmsf_holo, color='red', linewidth=4)\n",
        "axs[1].set_title('Holo (6GGI-A-GSS)', fontsize=font_size_labels)\n",
        "axs[1].set_xlabel('Residue Index', fontsize=font_size_labels)\n",
        "#axs[1].set_ylabel('RMSF (Å)', fontsize=font_size_labels)\n",
        "axs[1].tick_params(axis='both', which='major', labelsize=font_size_ticks)\n",
        "axs[1].set_ylim(0, 5)\n",
        "\n",
        "# Plot ΔRMSF on the right\n",
        "axs[2].plot(residues_apo, delta_rmsf, color='green', linewidth=4)\n",
        "axs[2].set_title('ΔRMSF (Holo - Apo)', fontsize=font_size_labels)\n",
        "axs[2].set_xlabel('Residue Index', fontsize=font_size_labels)\n",
        "#axs[2].set_ylabel('ΔRMSF (Å)', fontsize=font_size_labels)\n",
        "axs[2].tick_params(axis='both', which='major', labelsize=font_size_ticks)\n",
        "axs[2].axhline(y=0, color='gray', linestyle='--', linewidth=1)  # Add a reference line at y=0\n",
        "axs[2].set_ylim(0, 5)\n",
        "\n",
        "# Adjust layout for better spacing\n",
        "plt.tight_layout()\n",
        "\n",
        "# Show the plots\n",
        "plt.show()\n"
      ],
      "metadata": {
        "colab": {
          "base_uri": "https://localhost:8080/",
          "height": 519
        },
        "id": "X_-QSzGScLSd",
        "outputId": "5b106bb3-fa0f-4c90-8429-6f36c0fd687f"
      },
      "id": "X_-QSzGScLSd",
      "execution_count": null,
      "outputs": [
        {
          "output_type": "display_data",
          "data": {
            "text/plain": [
              "<Figure size 1800x700 with 3 Axes>"
            ],
            "image/png": "[encoded data removed]"
          },
          "metadata": {}
        }
      ]
    },
    {
      "cell_type": "markdown",
      "source": [
        "### PLOT GSA-RMSD and LIE"
      ],
      "metadata": {
        "id": "9r4Uzgw_f7HF"
      },
      "id": "9r4Uzgw_f7HF"
    },
    {
      "cell_type": "code",
      "source": [
        "!ls -lrth"
      ],
      "metadata": {
        "colab": {
          "base_uri": "https://localhost:8080/"
        },
        "id": "U01mt8UE1681",
        "outputId": "d3c373cf-228f-4d32-ae94-a63a0bc30622"
      },
      "id": "U01mt8UE1681",
      "execution_count": null,
      "outputs": [
        {
          "output_type": "stream",
          "name": "stdout",
          "text": [
            "total 59M\n",
            "drwxr-xr-x 1 root root 4.0K Nov 21 14:25 sample_data\n",
            "-rw-r--r-- 1 root root  23K Nov 25 01:03 condacolab_install.log\n",
            "-rw-r--r-- 1 root root  28M Nov 25 01:10 6GGI-A-md_500ns.dcd\n",
            "-rw-r--r-- 1 root root 2.0M Nov 25 01:10 6GGI-A_clear.prmtop\n",
            "-rw-r--r-- 1 root root 2.0M Nov 25 01:10 6GGI-A-GSS_clear.prmtop\n",
            "-rw-r--r-- 1 root root  28M Nov 25 01:10 6GGI-A-GSS-md_500ns.dcd\n",
            "-rw-r--r-- 1 root root  11K Nov 25 01:14 GSA.rmsd\n",
            "-rw-r--r-- 1 root root  18K Nov 25 01:14 lie-GSA.dat\n",
            "-rw-r--r-- 1 root root  214 Nov 25 01:14 cpptraj.log\n"
          ]
        }
      ]
    },
    {
      "cell_type": "code",
      "source": [
        "### First we modify lie-GSA.dat file to plot the violin accordingly\n",
        "\n",
        "import pandas as pd\n",
        "import numpy as np\n",
        "import matplotlib.pyplot as plt\n",
        "from scipy.stats import gaussian_kde\n",
        "\n",
        "# Load the data\n",
        "file_path = 'lie-GSA.dat'  # Replace with your file path\n",
        "data = pd.read_csv(file_path, delim_whitespace=True)\n",
        "\n",
        "# Transform data to long format\n",
        "long_format_data = pd.melt(\n",
        "    data,\n",
        "    id_vars=['#Frame'],\n",
        "    value_vars=['GSA[EELEC]', 'GSA[EVDW]'],\n",
        "    var_name='Type',\n",
        "    value_name='Value'\n",
        ")\n",
        "\n",
        "# Replace GSA[EELEC] and GSA[EVDW] with ELEC and VDW in the 'Type' column\n",
        "long_format_data['Type'] = long_format_data['Type'].replace({'GSA[EELEC]': 'ELEC', 'GSA[EVDW]': 'VDW'})\n",
        "\n",
        "# Modify the first column to contain only the string \"GSA\"\n",
        "long_format_data['#Frame'] = 'GSA'\n",
        "\n",
        "# Save the transformed data to a new file\n",
        "output_file_path = 'lie.csv'\n",
        "long_format_data.to_csv(output_file_path, index=False)\n",
        "\n",
        "output_file_path\n",
        "\n",
        "#### Ploting options\n",
        "import pandas as pd\n",
        "import matplotlib.pyplot as plt\n",
        "import seaborn as sns\n",
        "import numpy as np\n",
        "\n",
        "# Load the data\n",
        "rmsd_file_path = 'GSA.rmsd'  # Replace with your RMSD file path\n",
        "lie_file_path = 'lie.csv'    # Replace with your LIE file path\n",
        "\n",
        "# Load GSA.rmsd data\n",
        "data_gsa = np.loadtxt(rmsd_file_path, skiprows=1)  # Assuming data starts from second line\n",
        "\n",
        "# Extract time (x-axis) and RMSD values (y-axis)\n",
        "time_gsa = data_gsa[:, 0]  # Assuming time is in the first column\n",
        "rmsd_gsa = data_gsa[:, 1]  # Assuming RMSD values are in the second column\n",
        "\n",
        "# Load lie.csv data\n",
        "lie_data = pd.read_csv(lie_file_path)\n",
        "lie_data.columns = ['System', 'Type', 'Value']  # Ensure column names match\n",
        "\n",
        "# Convert Value column to float\n",
        "lie_data['Value'] = lie_data['Value'].astype(float)\n",
        "\n",
        "# Create subplots\n",
        "fig, axs = plt.subplots(1, 2, figsize=(15, 7), dpi=300)\n",
        "\n",
        "# Font size customization\n",
        "font_size_ticks = 18\n",
        "font_size_labels = 18\n",
        "\n",
        "# Plot RMSD data on the left\n",
        "axs[0].plot(time_gsa, rmsd_gsa, linewidth=4, label='RMSD', color='grey')\n",
        "axs[0].set_xlabel('Time (ns)')\n",
        "axs[0].set_ylabel('RMSD (Å)', fontsize=font_size_labels)\n",
        "axs[0].set_title('GSA RMSD ', fontsize=font_size_labels)\n",
        "axs[0].tick_params(axis='both', which='major', labelsize=font_size_ticks)\n",
        "axs[0].set_ylim(0, 5)\n",
        "\n",
        "# Plot violin plot on the right\n",
        "sns.violinplot(\n",
        "    data=lie_data, y='Value', x='System', hue='Type', split=True, inner=None, palette='coolwarm', ax=axs[1]\n",
        ")\n",
        "axs[1].set_ylabel('Binding Energy (kcal/mol)', fontsize=font_size_labels)\n",
        "axs[1].set_xlabel('')\n",
        "axs[1].set_title('GSA Binding Energy', fontsize=font_size_labels)\n",
        "axs[1].tick_params(axis='both', which='major', labelsize=font_size_ticks)\n",
        "\n",
        "# Adjust layout\n",
        "plt.tight_layout()\n",
        "\n",
        "# Save the plot\n",
        "output_plot_path = 'rmsd_violin_plots.png'\n",
        "plt.savefig(output_plot_path, bbox_inches='tight')\n",
        "plt.show()"
      ],
      "metadata": {
        "id": "gW7cSR-Qf6Y_"
      },
      "id": "gW7cSR-Qf6Y_",
      "execution_count": null,
      "outputs": []
    },
    {
      "cell_type": "markdown",
      "source": [
        "# 8. Discussion and conclusions"
      ],
      "metadata": {
        "id": "VwPbwk5VEZag"
      },
      "id": "VwPbwk5VEZag"
    },
    {
      "cell_type": "markdown",
      "source": [
        "### Analysis and Questions for Discussion\n",
        "\n",
        "1. **What information could you get from the visual inspection?**  \n",
        "   - Describe any notable structural changes, interactions, or stability in the **APO** and **HOLO** systems.\n",
        "   - Observe the positioning of **Mg²⁺** and its coordination environment.\n",
        "\n",
        "2. **How is the interaction between Mg²⁺ and the phosphate groups?**  \n",
        "   - Consider the geometry of the interaction.\n",
        "   - Discuss the strength and stability of the coordination based on distances and angles.\n",
        "\n",
        "3. **What kind of information do we get from RMSDs?**  \n",
        "   - Root Mean Square Deviation (**RMSD**) provides insights into the overall structural stability of the protein and ligand during the simulation.\n",
        "   - It indicates how much the structure deviates from the starting conformation over time.\n",
        "\n",
        "4. **What kind of information do we get from RMSFs?**  \n",
        "   - Root Mean Square Fluctuation (**RMSF**) reveals the flexibility of individual residues or regions in the protein.\n",
        "   - It helps identify stable regions (low RMSF) and flexible or dynamic regions (high RMSF).\n",
        "\n",
        "5. **The LIE values: Why is ELEC higher (in terms of energy) than VDW?**  \n",
        "   - Discuss the contributions of **electrostatic interactions (ELEC)** and **van der Waals interactions (VDW)** to the binding free energy.\n",
        "   - Typically, **ELEC** is higher due to stronger long-range electrostatic forces, whereas **VDW** involves weaker, short-range interactions.\n",
        "\n",
        "6. **Are forcefields able to describe protein dynamics?**  \n",
        "   - Take a look at this [blog post](https://corinwagen.github.io/public/blog/20241011_gems.html?s=03) for a discussion on the strengths and limitations of force fields in simulating protein dynamics.\n"
      ],
      "metadata": {
        "id": "Gm59vB2XDZ-Y"
      },
      "id": "Gm59vB2XDZ-Y"
    },
    {
      "cell_type": "code",
      "source": [],
      "metadata": {
        "id": "G3-eYFeC7DRO"
      },
      "id": "G3-eYFeC7DRO",
      "execution_count": null,
      "outputs": []
    }
  ],
  "metadata": {
    "kernelspec": {
      "display_name": "Python 3 (ipykernel)",
      "language": "python",
      "name": "python3"
    },
    "language_info": {
      "codemirror_mode": {
        "name": "ipython",
        "version": 3
      },
      "file_extension": ".py",
      "mimetype": "text/x-python",
      "name": "python",
      "nbconvert_exporter": "python",
      "pygments_lexer": "ipython3",
      "version": "3.11.7"
    },
    "colab": {
      "provenance": [],
      "include_colab_link": true
    }
  },
  "nbformat": 4,
  "nbformat_minor": 5
}