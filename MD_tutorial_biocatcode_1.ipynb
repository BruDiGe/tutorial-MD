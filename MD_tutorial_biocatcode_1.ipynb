{
  "cells": [
    {
      "cell_type": "markdown",
      "id": "49e45ef8-8d92-4a21-8c20-445bad9c4c3a",
      "metadata": {
        "id": "49e45ef8-8d92-4a21-8c20-445bad9c4c3a"
      },
      "source": [
        "# Introduction to Molecular Dynamics Simulations with AMBER\n",
        "\n",
        "-**Author:** Bruno Di Geronimo  \n",
        "-**Contact:** bgeronimo3@gatech.edu  \n",
        "-**Github:** https://github.com/BruDiGe/biocatcodeexpander-2024.git  \n",
        "\n",
        "## Useful links:\n",
        "1 [AMBER](https://ambermd.org/index.php)\n",
        "\n",
        "\n",
        "2 [H++](http://newbiophysics.cs.vt.edu/H++/hppdetails.php)\n",
        "\n",
        "\n",
        "3 [pdb4amber](https://ambermd.org/tutorials/basic/tutorial9/index.php)\n",
        "\n",
        "\n",
        "4 [LEaP](https://ambermd.org/tutorials/pengfei/)\n",
        "\n",
        "5 [PyMOL](https://pymolwiki.org/index.php/Main_Page)\n",
        "\n",
        "6 [Advance AMBER tutorial](https://ambermd.org/tutorials/advanced/tutorial41/index.php#3.%20tICA%20Analysis%20and%20MSM%20Construction)\n"
      ]
    },
    {
      "cell_type": "markdown",
      "source": [
        "## Index of Actions:\n",
        "\n",
        "### 1. Instal Ambertools & parmed using CONDA\n",
        "\n",
        "First we will install all the software we need for this tutorial.\n",
        "\n",
        "This could take about 5 mins.\n",
        "\n",
        "\n",
        "### 2. Create your PDBs\n",
        "Using PyMol we are going to build our COSTB2 models. Using ChainA from PDB-id **6GGI** and substrate (geranyl geranyl phosphate or **GGS**) from PDB-id **5GUE**.\n",
        "\n",
        "**ACHTUNG!:** GGS is in *tio* state and without hydrogens. Use builder to modify the substrate.\n",
        "\n",
        "\n",
        "Use [H++](http://newbiophysics.cs.vt.edu/H++/hppdetails.php) webserver to get protonation state of your 6GGI_Chain-A. Only use aa.\n",
        "\n",
        "\n",
        "At the end we should have next structures:\n",
        "* 6GGI-A_H.pdb (protein)\n",
        "* GSSH-A.pdb (substrate)\n",
        "* WAT-A.pdb (water molecules, yes cristallographic waters are important)\n",
        "* MG-A.pdb (magnesium ion)\n",
        "\n",
        "*Apo system* (**6GGI-A**) without substrate.\n",
        "*Holo system* (**6GGI-A-GSS**) with substrate.\n",
        "\n",
        "\n",
        "### 3. tleap\n",
        "Using tleap we can build our corresponding topology and initial coordinates using the corresponding PDBs and force fields (ff19SB and TIP3P water molecules).\n",
        "\n",
        "\n",
        "### 4. Analysis with Parmed\n",
        "Use parmed to visualize and understand how it looks our topology file inside.\n",
        "\n",
        "\n",
        "### 5. Conventional MD\n",
        "In this course, we will not run cMD due to the lack of resources & time. Take a look to the scheme proposed and inputs at (Link-Github).\n",
        "\n",
        "### 6. Visualization of the Molecular Dynamic simulations\n",
        "Download from [link] files:\n",
        "\n",
        "1. **APO:** 6GGI-A_equi.pdb and 6GGI-A-md_500ns.dcd\n",
        "\n",
        "\n",
        "2. **HOLO:** 6GGI-A-GSS_equi.pdb and 6GGI-A-GSS-md_500ns.dcd\n",
        "\n",
        "Use PyMol to load the trajectories. For **APO** open first the PDB file *6GGI-A_equi.pdb* and the at console enter (load_traj 6GGI-A-md_500ns.dcd). For **HOLO**, in a new PyMol window open first the PDB file *6GGI-A-GSS_equi.pdb* and the at console enter (load_traj 6GGI-A-md_500ns.dcd).\n",
        "\n",
        "\n",
        "### 7. Trajectory analysis with CPPTRAJ:\n",
        "\n",
        "Using *cpptraj* software we will analyze both trajectories and plot the corresponding RMSD, RMSF and LIE values.\n",
        "\n",
        "\n",
        "### 8. Discussion and conclusions"
      ],
      "metadata": {
        "id": "NR9ObvTDmwZe"
      },
      "id": "NR9ObvTDmwZe"
    },
    {
      "cell_type": "markdown",
      "source": [
        "# 1. Instal Ambertools & parmed using CONDA"
      ],
      "metadata": {
        "id": "xO6O5p0PD97G"
      },
      "id": "xO6O5p0PD97G"
    },
    {
      "cell_type": "code",
      "source": [
        "!pip install -q condacolab"
      ],
      "metadata": {
        "id": "TIFnzzUvEi-B"
      },
      "id": "TIFnzzUvEi-B",
      "execution_count": null,
      "outputs": []
    },
    {
      "cell_type": "code",
      "source": [
        "import condacolab\n",
        "condacolab.install()"
      ],
      "metadata": {
        "id": "W3CvacmUEowG",
        "colab": {
          "base_uri": "https://localhost:8080/"
        },
        "outputId": "7866ebbd-d75e-4446-ba8d-6bbf358d7fb3"
      },
      "id": "W3CvacmUEowG",
      "execution_count": null,
      "outputs": [
        {
          "output_type": "stream",
          "name": "stdout",
          "text": [
            "⏬ Downloading https://github.com/conda-forge/miniforge/releases/download/23.11.0-0/Mambaforge-23.11.0-0-Linux-x86_64.sh...\n",
            "📦 Installing...\n",
            "📌 Adjusting configuration...\n",
            "🩹 Patching environment...\n",
            "⏲ Done in 0:00:18\n",
            "🔁 Restarting kernel...\n"
          ]
        }
      ]
    },
    {
      "cell_type": "code",
      "source": [
        "!conda --version"
      ],
      "metadata": {
        "id": "5WvDo3QMErtK"
      },
      "id": "5WvDo3QMErtK",
      "execution_count": null,
      "outputs": []
    },
    {
      "cell_type": "code",
      "source": [
        "!conda create --name AmberTools23"
      ],
      "metadata": {
        "id": "q38U1kPEEvCu"
      },
      "id": "q38U1kPEEvCu",
      "execution_count": null,
      "outputs": []
    },
    {
      "cell_type": "code",
      "source": [
        "!source activate base"
      ],
      "metadata": {
        "id": "1ASKKUbuE1xv"
      },
      "id": "1ASKKUbuE1xv",
      "execution_count": null,
      "outputs": []
    },
    {
      "cell_type": "code",
      "source": [
        "!conda install -c conda-forge ambertools=23"
      ],
      "metadata": {
        "id": "R7niy_4KE4W2"
      },
      "id": "R7niy_4KE4W2",
      "execution_count": null,
      "outputs": []
    },
    {
      "cell_type": "code",
      "source": [
        "!source activate AmberTools23"
      ],
      "metadata": {
        "id": "IQNViSHgE6iL"
      },
      "id": "IQNViSHgE6iL",
      "execution_count": null,
      "outputs": []
    },
    {
      "cell_type": "code",
      "source": [
        "!which cpptraj"
      ],
      "metadata": {
        "id": "2GsXmCofE-MT"
      },
      "id": "2GsXmCofE-MT",
      "execution_count": null,
      "outputs": []
    },
    {
      "cell_type": "code",
      "source": [
        "!which tleap"
      ],
      "metadata": {
        "id": "IWxOo5ffE_CN"
      },
      "id": "IWxOo5ffE_CN",
      "execution_count": null,
      "outputs": []
    },
    {
      "cell_type": "code",
      "source": [
        "!pip install parmed"
      ],
      "metadata": {
        "id": "ecX2LklGFCN4",
        "colab": {
          "base_uri": "https://localhost:8080/"
        },
        "outputId": "37365d5a-8bfe-411d-a4b9-df2ce04974b4"
      },
      "id": "ecX2LklGFCN4",
      "execution_count": 86,
      "outputs": [
        {
          "output_type": "stream",
          "name": "stdout",
          "text": [
            "Collecting parmed\n",
            "  Downloading parmed-4.3.0.tar.gz (20.2 MB)\n",
            "\u001b[2K     \u001b[90m━━━━━━━━━━━━━━━━━━━━━━━━━━━━━━━━━━━━━━━━\u001b[0m \u001b[32m20.2/20.2 MB\u001b[0m \u001b[31m48.5 MB/s\u001b[0m eta \u001b[36m0:00:00\u001b[0m\n",
            "\u001b[?25h  Preparing metadata (setup.py) ... \u001b[?25l\u001b[?25hdone\n",
            "Building wheels for collected packages: parmed\n",
            "  Building wheel for parmed (setup.py) ... \u001b[?25l\u001b[?25hdone\n",
            "  Created wheel for parmed: filename=ParmEd-4.3.0-cp310-cp310-linux_x86_64.whl size=19470040 sha256=e769735ec20505c6cb6463d01c0edeecd59cbf96be1cdc9c706edec58d51c54c\n",
            "  Stored in directory: /root/.cache/pip/wheels/38/27/88/54cef4d495c95b7d4dde9c104b19b886bafac0643c43c78c4c\n",
            "Successfully built parmed\n",
            "Installing collected packages: parmed\n",
            "Successfully installed parmed-4.3.0\n"
          ]
        }
      ]
    },
    {
      "cell_type": "code",
      "source": [
        "!which parmed"
      ],
      "metadata": {
        "id": "ZY2Udz1HFGej",
        "colab": {
          "base_uri": "https://localhost:8080/"
        },
        "outputId": "a31784fe-e7cf-4109-e8cf-ddada9c35780"
      },
      "id": "ZY2Udz1HFGej",
      "execution_count": 87,
      "outputs": [
        {
          "output_type": "stream",
          "name": "stdout",
          "text": [
            "/usr/local/bin/parmed\n"
          ]
        }
      ]
    },
    {
      "cell_type": "markdown",
      "source": [
        "# 2. Create your PDBs"
      ],
      "metadata": {
        "id": "9SoS6iG7CosP"
      },
      "id": "9SoS6iG7CosP"
    },
    {
      "cell_type": "markdown",
      "source": [
        "Follow instructor order to obtain the corresponding PDBs:\n",
        "\n",
        "* **6GGI-A_H.pdb** (protein)\n",
        "* **GSSH-A.pdb** (substrate)\n",
        "* **WAT-A.pdb** (water molecules, yes cristallographic waters are important)\n",
        "* **MG-A.pdb** (magnesium ion)\n",
        "\n",
        "Files can be also downloaded here: [link](https://github.com/BruDiGe/tutorial-MD/tree/main/00_structures)"
      ],
      "metadata": {
        "id": "-bLzxMdUFOAm"
      },
      "id": "-bLzxMdUFOAm"
    },
    {
      "cell_type": "markdown",
      "source": [
        "# 3. tleap\n",
        "\n",
        "Tleap works by transforming our PDBs in the corresponding topology file (that has all the information related to atom types, residues, bonds, angles, dihedrals, etc) and the initial coordinates (just x,y,z coordinates).\n",
        "\n",
        "\n",
        "\n",
        "![AMBER Diagram](https://ambermd.org/tutorials/basic/tutorial9/include/amber_flow.png)\n"
      ],
      "metadata": {
        "id": "tzyA5msHCywD"
      },
      "id": "tzyA5msHCywD"
    },
    {
      "cell_type": "markdown",
      "source": [
        "<div class=\"alert alert-block alert-info\">\n",
        "<b>NOTE:</b> We are not going to create any prmtop file or coordinates since we have only installed AMBER TOOLS and cannot access the corresponding force field. Topology files and coordinate files are saved <a href=\"https://github.com/BruDiGe/tutorial-MD/tree/main/02_parm\" target=\"_blank\">here</a>.\n",
        "</div>"
      ],
      "metadata": {
        "id": "Fx3--o6CmZq9"
      },
      "id": "Fx3--o6CmZq9"
    },
    {
      "cell_type": "code",
      "source": [
        "!pip install colab-ssh"
      ],
      "metadata": {
        "colab": {
          "base_uri": "https://localhost:8080/"
        },
        "id": "VW9kQZRNx1Ix",
        "outputId": "fc1c828e-c2cb-4039-9ec6-e812f74739f9"
      },
      "id": "VW9kQZRNx1Ix",
      "execution_count": null,
      "outputs": [
        {
          "output_type": "stream",
          "name": "stdout",
          "text": [
            "Requirement already satisfied: colab-ssh in /usr/local/lib/python3.10/dist-packages (0.3.27)\n"
          ]
        }
      ]
    },
    {
      "cell_type": "code",
      "source": [
        "!which vim"
      ],
      "metadata": {
        "colab": {
          "base_uri": "https://localhost:8080/"
        },
        "id": "hI6m626cy4-I",
        "outputId": "bef7a95b-27f2-4e25-8b59-c42fa0f7487c"
      },
      "id": "hI6m626cy4-I",
      "execution_count": null,
      "outputs": [
        {
          "output_type": "stream",
          "name": "stdout",
          "text": [
            "/usr/bin/vim\n"
          ]
        }
      ]
    },
    {
      "cell_type": "code",
      "source": [
        "!ls"
      ],
      "metadata": {
        "colab": {
          "base_uri": "https://localhost:8080/"
        },
        "id": "dS5KUBQ31Zfx",
        "outputId": "7a47d8f0-69b8-46c2-d948-a9c4878bfbea"
      },
      "id": "dS5KUBQ31Zfx",
      "execution_count": null,
      "outputs": [
        {
          "output_type": "stream",
          "name": "stdout",
          "text": [
            "sample_data\n"
          ]
        }
      ]
    },
    {
      "cell_type": "code",
      "source": [
        "!curl -o tleap-holo.in https://raw.githubusercontent.com/BruDiGe/tutorial-MD/main/01_tleap/tleap-holo.in\n"
      ],
      "metadata": {
        "colab": {
          "base_uri": "https://localhost:8080/"
        },
        "id": "-EoFsDAdzZlk",
        "outputId": "acd3678d-7a25-4e19-a1f0-82ac33c6dd39"
      },
      "id": "-EoFsDAdzZlk",
      "execution_count": null,
      "outputs": [
        {
          "output_type": "stream",
          "name": "stdout",
          "text": [
            "  % Total    % Received % Xferd  Average Speed   Time    Time     Time  Current\n",
            "                                 Dload  Upload   Total   Spent    Left  Speed\n",
            "100   544  100   544    0     0   2716      0 --:--:-- --:--:-- --:--:--  2720\n"
          ]
        }
      ]
    },
    {
      "cell_type": "code",
      "source": [
        "!ls"
      ],
      "metadata": {
        "colab": {
          "base_uri": "https://localhost:8080/"
        },
        "id": "uWe9M8Q11g25",
        "outputId": "a37b241a-11b2-4c32-b649-e63314111e10"
      },
      "id": "uWe9M8Q11g25",
      "execution_count": null,
      "outputs": [
        {
          "output_type": "stream",
          "name": "stdout",
          "text": [
            "sample_data  tleap-holo.in\n"
          ]
        }
      ]
    },
    {
      "cell_type": "code",
      "source": [
        "!cat tleap-holo.in"
      ],
      "metadata": {
        "colab": {
          "base_uri": "https://localhost:8080/"
        },
        "id": "QcXVek1xy-w-",
        "outputId": "13014df9-fd47-490f-d273-a20642e839cd"
      },
      "id": "QcXVek1xy-w-",
      "execution_count": null,
      "outputs": [
        {
          "output_type": "stream",
          "name": "stdout",
          "text": [
            "source leaprc.protein.ff19SB\n",
            "source leaprc.gaff2\n",
            "source leaprc.water.tip3p\n",
            "loadAmberParams ./GSSH-A-2/GSSH-A.frcmod\n",
            "loadAmberPrep ./GSSH-A-2/GSSH-A.prepi\n",
            "sys1 = loadpdb 6GGI-A_H.pdb\n",
            "sys2 = loadpdb GSSH-A.pdb\n",
            "sys3 = loadpdb WAT-A.pdb\n",
            "sys4 = loadpdb MG-A.pdb\n",
            "sys = sequence { sys1 sys2 sys3 sys4 }\n",
            "savePDB sys 6GGI-A-GSS_leap.pdb\n",
            "mol = loadpdb 6GGI-A-GSS_leap.pdb\n",
            "addions2 mol K+ 10\n",
            "addions2 mol Na+ 0\n",
            "addions2 mol Cl- 0\n",
            "solvateOct mol TIP3PBOX 12.0\n",
            "saveamberparm mol 6GGI-A-GSS.prmtop 6GGI-A-GSS.inpcrd\n",
            "savePDB mol 6GGI-A-GSS-solv_leap.pdb\n",
            "quit\n"
          ]
        }
      ]
    },
    {
      "cell_type": "code",
      "source": [
        "!curl -o tleap-apo.in https://raw.githubusercontent.com/BruDiGe/tutorial-MD/main/01_tleap/tleap-apo.in"
      ],
      "metadata": {
        "colab": {
          "base_uri": "https://localhost:8080/"
        },
        "id": "85VdED6o0oSg",
        "outputId": "bb8b9f33-b243-4d0d-f1c6-dd8ef90fd6c6"
      },
      "id": "85VdED6o0oSg",
      "execution_count": null,
      "outputs": [
        {
          "output_type": "stream",
          "name": "stdout",
          "text": [
            "  % Total    % Received % Xferd  Average Speed   Time    Time     Time  Current\n",
            "                                 Dload  Upload   Total   Spent    Left  Speed\n",
            "100   531  100   531    0     0   2309      0 --:--:-- --:--:-- --:--:--  2318\n"
          ]
        }
      ]
    },
    {
      "cell_type": "code",
      "source": [
        "!cat tleap-apo.in"
      ],
      "metadata": {
        "colab": {
          "base_uri": "https://localhost:8080/"
        },
        "id": "1fsMg6PU0Tem",
        "outputId": "18e13a99-fd42-49a8-b2e4-1933ee8a3440"
      },
      "id": "1fsMg6PU0Tem",
      "execution_count": null,
      "outputs": [
        {
          "output_type": "stream",
          "name": "stdout",
          "text": [
            "source leaprc.protein.ff19SB\n",
            "source leaprc.gaff2\n",
            "source leaprc.water.tip3p\n",
            "loadAmberParams ./GSSH-A/GSSH-A.frcmod\n",
            "loadAmberPrep ./GSSH-A/GSSH-A.prepi\n",
            "loadAmberParams ./GSSH-B/GSSH-B.frcmod\n",
            "loadAmberPrep ./GSSH-B/GSSH-B.prepi\n",
            "sys1 = loadpdb 6GGI-A_H.pdb\n",
            "sys2 = loadpdb WAT-A.pdb\n",
            "sys = sequence { sys1 sys2 }\n",
            "savePDB sys 6GGI_leap.pdb\n",
            "mol = loadpdb 6GGI_leap.pdb\n",
            "addions2 mol K+ 10\n",
            "addions2 mol Na+ 0\n",
            "addions2 mol Cl- 0\n",
            "solvateOct mol TIP3PBOX 12.0\n",
            "saveamberparm mol 6GGI-A.prmtop 6GGI-A.inpcrd\n",
            "savePDB mol 6GGI-A-solv_leap.pdb\n",
            "quit\n"
          ]
        }
      ]
    },
    {
      "cell_type": "markdown",
      "source": [
        "## How we get the parameters for GSS ?\n",
        "\n",
        "Using antechamber, we have used simple GAFF (General Amber Force Field 2) to obtain the corresponding parameters. In order to obtaine the optimized molecule we have used (in this case) [**obabel**](https://open-babel.readthedocs.io/en/latest/Command-line_tools/babel.html) to minimize bond lenth.\n",
        "\n",
        "#### PARAMETERS FOR LIGAND A ####\n",
        "\n",
        "<div class=\"alert alert-block alert-info\">\n",
        "<b>NOTE:</b> antechamber -fi pdb -i GSSH-A-min.pdb -fo prepi -o GSSH-A.prepi -c bcc -nc -3 -rn GSA -at gaff2\n",
        "\n",
        "parmchk2 -i GSSH-A.prepi -o GSSH-A.frcmod -f prepi\n",
        "</div>\n",
        "\n",
        "\n",
        "\n"
      ],
      "metadata": {
        "id": "Bezd_sgy312e"
      },
      "id": "Bezd_sgy312e"
    },
    {
      "cell_type": "code",
      "source": [
        "!curl -o GSSH-A.prepi https://raw.githubusercontent.com/BruDiGe/tutorial-MD/main/01_tleap/GSSH-A/GSSH-A.prepi\n",
        "!ls -lrth\n",
        "!cat GSSH-A.prepi"
      ],
      "metadata": {
        "colab": {
          "base_uri": "https://localhost:8080/"
        },
        "id": "IEQCa5-T4wi1",
        "outputId": "a1c55d6c-5ccd-42ff-8987-cbe1d724f18f",
        "collapsed": true
      },
      "id": "IEQCa5-T4wi1",
      "execution_count": null,
      "outputs": [
        {
          "output_type": "stream",
          "name": "stdout",
          "text": [
            "  % Total    % Received % Xferd  Average Speed   Time    Time     Time  Current\n",
            "                                 Dload  Upload   Total   Spent    Left  Speed\n",
            "\r  0     0    0     0    0     0      0      0 --:--:-- --:--:-- --:--:--     0\r100  4873  100  4873    0     0  31506      0 --:--:-- --:--:-- --:--:-- 31642\n",
            "total 20K\n",
            "drwxr-xr-x 1 root root 4.0K Nov 15 14:19 sample_data\n",
            "-rw-r--r-- 1 root root  544 Nov 19 14:39 tleap-holo.in\n",
            "-rw-r--r-- 1 root root  531 Nov 19 14:40 tleap-apo.in\n",
            "-rw-r--r-- 1 root root 4.8K Nov 19 14:54 GSSH-A.prepi\n",
            "    0    0    2\n",
            "\n",
            "This is a remark line\n",
            "molecule.res\n",
            "GSA   INT  0\n",
            "CORRECT     OMIT DU   BEG\n",
            "  0.0000\n",
            "   1  DUMM  DU    M    0  -1  -2     0.000      .0        .0      .00000\n",
            "   2  DUMM  DU    M    1   0  -1     1.449      .0        .0      .00000\n",
            "   3  DUMM  DU    M    2   1   0     1.523   111.21       .0      .00000\n",
            "   4  O1B   o     M    3   2   1     1.540   111.208  -180.000 -0.954833\n",
            "   5  PB    p5    M    4   3   2     1.533   158.358   -62.166  1.489900\n",
            "   6  O2B   o     E    5   4   3     1.523   112.585  -128.155 -0.954833\n",
            "   7  O3B   o     E    5   4   3     1.529   111.222   103.146 -0.954833\n",
            "   8  O3A   os    M    5   4   3     1.613   104.116   -11.358 -0.826800\n",
            "   9  PA    p5    M    8   5   4     1.599   139.873  -172.433  1.579800\n",
            "  10  O1A   o     E    9   8   5     1.523   113.208    85.735 -0.918000\n",
            "  11  O2A   o     E    9   8   5     1.531   109.167  -144.914 -0.918000\n",
            "  12  O01   os    M    9   8   5     1.626   105.205   -31.237 -0.595200\n",
            "  13  C1    c3    M   12   9   8     1.413   116.908   -57.169  0.133400\n",
            "  14  H01   h1    E   13  12   9     1.090   111.866     3.449  0.086700\n",
            "  15  H02   h1    E   13  12   9     1.093   107.713   123.393  0.086700\n",
            "  16  C2    c3    M   13  12   9     1.510   107.791  -120.945 -0.031700\n",
            "  17  H03   hc    E   16  13  12     1.087   111.850   -42.955  0.049700\n",
            "  18  C3    c3    M   16  13  12     1.350   128.793   136.486 -0.224000\n",
            "  19  C4    c3    3   18  16  13     1.502   123.830    -0.299 -0.069100\n",
            "  20  H07   hc    E   19  18  16     1.092   113.598   -16.375  0.046033\n",
            "  21  H08   hc    E   19  18  16     1.095   110.100   104.742  0.046033\n",
            "  22  H09   hc    E   19  18  16     1.095   110.320  -135.893  0.046033\n",
            "  23  C5    c3    M   18  16  13     1.510   119.799  -178.190 -0.009400\n",
            "  24  H10   hc    E   23  18  16     1.098   108.594   121.877  0.002200\n",
            "  25  H11   hc    E   23  18  16     1.099   109.666     7.571  0.002200\n",
            "  26  C6    c3    M   23  18  16     1.537   113.912  -116.436 -0.042400\n",
            "  27  H12   hc    E   26  23  18     1.091   112.786    15.018  0.023200\n",
            "  28  H13   hc    E   26  23  18     1.098   108.745  -100.739  0.023200\n",
            "  29  C7    c3    M   26  23  18     1.506   110.837   141.044 -0.105700\n",
            "  30  H14   hc    E   29  26  23     1.090   112.647    67.622  0.087700\n",
            "  31  C8    c3    M   29  26  23     1.348   129.049  -111.897 -0.117000\n",
            "  32  C10   c3    3   31  29  26     1.509   118.746  -178.223 -0.055100\n",
            "  33  H17   hc    E   32  31  29     1.092   110.393  -116.830  0.034367\n",
            "  34  H18   hc    E   32  31  29     1.096   112.567     3.191  0.034367\n",
            "  35  H19   hc    E   32  31  29     1.094   110.265   123.058  0.034367\n",
            "  36  C9    c3    M   31  29  26     1.522   127.071    -0.524 -0.027400\n",
            "  37  H15   hc    E   36  31  29     1.098   106.981   -74.521  0.006700\n",
            "  38  H16   hc    E   36  31  29     1.100   108.282   172.733  0.006700\n",
            "  39  C11   c3    M   36  31  29     1.541   120.612    49.553 -0.014400\n",
            "  40  H20   hc    E   39  36  31     1.090   111.478   -59.742  0.032700\n",
            "  41  H21   hc    E   39  36  31     1.098   105.671  -174.665  0.032700\n",
            "  42  C12   c3    M   39  36  31     1.504   115.404    64.879 -0.276700\n",
            "  43  H22   hc    E   42  39  36     1.086   116.033   -28.131  0.046700\n",
            "  44  C13   c3    M   42  39  36     1.351   125.002   156.534  0.021000\n",
            "  45  C14   c3    3   44  42  39     1.511   123.847     1.900 -0.144100\n",
            "  46  H23   hc    E   45  44  42     1.095   110.328   127.241  0.080033\n",
            "  47  H24   hc    E   45  44  42     1.095   109.677  -113.508  0.080033\n",
            "  48  H25   hc    E   45  44  42     1.092   113.572     7.289  0.080033\n",
            "  49  C15   c3    M   44  42  39     1.522   123.046   177.523 -0.134400\n",
            "  50  H26   hc    E   49  44  42     1.098   108.348   -81.863  0.129200\n",
            "  51  H27   hc    E   49  44  42     1.099   108.816   163.672  0.129200\n",
            "  52  C16   c3    M   49  44  42     1.538   117.031    42.100 -0.053400\n",
            "  53  H28   hc    E   52  49  44     1.095   109.351   -68.922  0.057200\n",
            "  54  H29   hc    E   52  49  44     1.097   108.382   175.597  0.057200\n",
            "  55  C17   c3    M   52  49  44     1.511   112.542    56.349 -0.050700\n",
            "  56  H30   hc    E   55  52  49     1.089   114.106    48.700  0.078700\n",
            "  57  C18   c3    M   55  52  49     1.348   126.696  -126.896 -0.216000\n",
            "  58  C20   c3    3   57  55  52     1.500   123.271    -4.274 -0.036600\n",
            "  59  H34   hc    E   58  57  55     1.094   111.932   -38.794  0.020033\n",
            "  60  H35   hc    E   58  57  55     1.092   109.968    82.651  0.020033\n",
            "  61  H36   hc    E   58  57  55     1.095   111.074  -157.760  0.020033\n",
            "  62  C19   c3    M   57  55  52     1.502   121.105   173.406 -0.036600\n",
            "  63  H31   hc    E   62  57  55     1.094   110.452   120.745  0.020033\n",
            "  64  H32   hc    E   62  57  55     1.095   110.013  -119.400  0.020033\n",
            "  65  H33   hc    E   62  57  55     1.096   112.310     0.414  0.020033\n",
            "\n",
            "\n",
            "LOOP\n",
            "\n",
            "IMPROPER\n",
            "\n",
            "DONE\n",
            "STOP\n"
          ]
        }
      ]
    },
    {
      "cell_type": "code",
      "source": [
        "!curl -o GSSH-A.frcmod https://raw.githubusercontent.com/BruDiGe/tutorial-MD/main/01_tleap/GSSH-A/GSSH-A.frcmod\n",
        "!ls -lrth\n",
        "!cat GSSH-A.frcmod"
      ],
      "metadata": {
        "colab": {
          "base_uri": "https://localhost:8080/"
        },
        "collapsed": true,
        "id": "NQY2GIB05o34",
        "outputId": "6cbf0352-1574-4b21-a4b5-d009d206257c"
      },
      "id": "NQY2GIB05o34",
      "execution_count": null,
      "outputs": [
        {
          "output_type": "stream",
          "name": "stdout",
          "text": [
            "  % Total    % Received % Xferd  Average Speed   Time    Time     Time  Current\n",
            "                                 Dload  Upload   Total   Spent    Left  Speed\n",
            "\r  0     0    0     0    0     0      0      0 --:--:-- --:--:-- --:--:--     0\r100    67  100    67    0     0    261      0 --:--:-- --:--:-- --:--:--   261\n",
            "total 24K\n",
            "drwxr-xr-x 1 root root 4.0K Nov 15 14:19 sample_data\n",
            "-rw-r--r-- 1 root root  544 Nov 19 14:39 tleap-holo.in\n",
            "-rw-r--r-- 1 root root  531 Nov 19 14:40 tleap-apo.in\n",
            "-rw-r--r-- 1 root root 4.8K Nov 19 14:54 GSSH-A.prepi\n",
            "-rw-r--r-- 1 root root   67 Nov 19 14:55 GSSH-A.frcmod\n",
            "Remark line goes here\n",
            "MASS\n",
            "\n",
            "BOND\n",
            "\n",
            "ANGLE\n",
            "\n",
            "DIHE\n",
            "\n",
            "IMPROPER\n",
            "\n",
            "NONBON\n",
            "\n",
            "\n",
            "\n"
          ]
        }
      ]
    },
    {
      "cell_type": "markdown",
      "source": [
        "# 4. Analysis with Parmed"
      ],
      "metadata": {
        "id": "VScClIFTDDbk"
      },
      "id": "VScClIFTDDbk"
    },
    {
      "cell_type": "markdown",
      "source": [
        "[ParmEd](https://parmed.github.io/ParmEd/html/index.html) is a general tool for aiding in investigations of biomolecular systems using popular molecular simulation packages, like Amber, CHARMM, and OpenMM written in Python.\n",
        "\n",
        "This software allow us to obtain al related information from topology files and modify it in case need it.\n",
        "\n"
      ],
      "metadata": {
        "id": "2u7WyS8v8lDi"
      },
      "id": "2u7WyS8v8lDi"
    },
    {
      "cell_type": "code",
      "source": [
        "!which parmed\n",
        "!curl -o 6GGI-A-GSS.prmtop https://raw.githubusercontent.com/BruDiGe/tutorial-MD/main/02_parm/6GGI-A-GSS.prmtop\n",
        "!ls -lrth\n",
        "# Commands to run with parmed\n",
        "# help\n",
        "# summary\n",
        "# printDetails :GSA\n",
        "# printBonds :275\n",
        "!parmed 6GGI-A-GSS.prmtop"
      ],
      "metadata": {
        "collapsed": true,
        "id": "uYzjUgMa9Wvx"
      },
      "id": "uYzjUgMa9Wvx",
      "execution_count": null,
      "outputs": []
    },
    {
      "cell_type": "markdown",
      "source": [
        "## ParmEd\n",
        "[ParmEd](https://parmed.github.io/ParmEd/html/index.html) is a general tool for aiding in investigations of biomolecular systems using popular molecular simulation packages, like Amber, CHARMM, and OpenMM written in Python.\n",
        "\n"
      ],
      "metadata": {
        "id": "rOFr_Re37D95"
      },
      "id": "rOFr_Re37D95"
    },
    {
      "cell_type": "markdown",
      "source": [
        "# 5. Conventional MD"
      ],
      "metadata": {
        "id": "zO4zD_daDPzC"
      },
      "id": "zO4zD_daDPzC"
    },
    {
      "cell_type": "markdown",
      "source": [
        "In this tutorial we are not going to run any MD simulations at all (for obvius reasons). Instead, results are uploaded here in this [link](https://github.com/BruDiGe/tutorial-MD/tree/main/04_cmd).\n",
        "\n",
        "<div style=\"background-color: lightgrey; padding: 10px; border-radius: 5px;\">\n",
        "In my humble opinion, this is one of the best tutorials about MD simulations with AMBER I ever saw. Here is the <a href=\"https://github.com/BruDiGe/tutorial-MD/blob/main/04_cmd/AMBERguide.pdf\" target=\"_blank\">link</a>.\n",
        "</div>\n",
        "\n",
        "## Minimization\n",
        "Minimization removes any steric clashes or high-energy configurations in the system that result from initial structural preparation.\n",
        "\n",
        "* Files:\n",
        "  * min1.in\n",
        "  * min2.in\n",
        "  * min3.in\n",
        "\n",
        "## Heating\n",
        "Gradually increase the system's temperature (from 100 to 300K)to the desired target, ensuring that atoms adapt naturally to higher thermal energies.In this case is performed under an NVT ensemble (constant number of particles, volume, and temperature).\n",
        "\n",
        "* Files:\n",
        "  * h.in\n",
        "\n",
        "## Equilibration\n",
        "Stabilize the system's pressure, temperature, and density to ensure it is ready for reliable production runs! Conducted in multiple steps, often transitioning from an NVT ensemble to an NPT ensemble (constant number of particles, pressure, and temperature). Restraints (not constraints) are often relaxed progressively.\n",
        "\n",
        "* Files:\n",
        "  * eq1.in\n",
        "  * eq2.in\n",
        "  * eq3.in\n",
        "  * eq4.in\n",
        "  * eq5.in\n",
        "  * eq6.in\n",
        "\n",
        "## Production\n",
        "Perform the actual simulation to observe the system's dynamics over a biologically or chemically relevant timescale. Run the simulation for a long time (e.g., 500 ns or more) under the desired ensemble, typically NPT (and this is our case) with a time step of 2fs (dt = 0.002).\n",
        "\n",
        "* Files:\n",
        "  * md.in"
      ],
      "metadata": {
        "id": "6RV3IA24QZtR"
      },
      "id": "6RV3IA24QZtR"
    },
    {
      "cell_type": "markdown",
      "source": [
        "# 6. Visualization of the Molecular Dynamic simulations"
      ],
      "metadata": {
        "id": "6D0DLXfdDYU7"
      },
      "id": "6D0DLXfdDYU7"
    },
    {
      "cell_type": "markdown",
      "source": [
        "# 7. Trajectory analysis with CPPTRAJ:"
      ],
      "metadata": {
        "id": "yIKYdYApEEhR"
      },
      "id": "yIKYdYApEEhR"
    },
    {
      "cell_type": "markdown",
      "source": [
        "# 8. Discussion and conclusions"
      ],
      "metadata": {
        "id": "VwPbwk5VEZag"
      },
      "id": "VwPbwk5VEZag"
    },
    {
      "cell_type": "markdown",
      "source": [],
      "metadata": {
        "id": "Gm59vB2XDZ-Y"
      },
      "id": "Gm59vB2XDZ-Y"
    }
  ],
  "metadata": {
    "kernelspec": {
      "display_name": "Python 3 (ipykernel)",
      "language": "python",
      "name": "python3"
    },
    "language_info": {
      "codemirror_mode": {
        "name": "ipython",
        "version": 3
      },
      "file_extension": ".py",
      "mimetype": "text/x-python",
      "name": "python",
      "nbconvert_exporter": "python",
      "pygments_lexer": "ipython3",
      "version": "3.11.7"
    },
    "colab": {
      "provenance": []
    }
  },
  "nbformat": 4,
  "nbformat_minor": 5
}